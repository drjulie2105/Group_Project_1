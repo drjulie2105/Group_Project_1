{
 "cells": [
  {
   "cell_type": "markdown",
   "metadata": {},
   "source": [
    "# Analysis of Crime Data in Cuyahoga County"
   ]
  },
  {
   "cell_type": "code",
   "execution_count": 1,
   "metadata": {},
   "outputs": [],
   "source": [
    "import requests\n",
    "import json\n",
    "import matplotlib.pyplot as plt\n",
    "from scipy import stats\n",
    "import pandas as pd\n",
    "from citipy import citipy\n",
    "import numpy as np\n",
    "from scipy.stats import linregress\n",
    "\n",
    "from api_keys import weather_api_key\n",
    "from api_keys import fbi_key\n",
    "\n"
   ]
  },
  {
   "cell_type": "code",
   "execution_count": 2,
   "metadata": {},
   "outputs": [
    {
     "data": {
      "text/html": [
       "<div>\n",
       "<style scoped>\n",
       "    .dataframe tbody tr th:only-of-type {\n",
       "        vertical-align: middle;\n",
       "    }\n",
       "\n",
       "    .dataframe tbody tr th {\n",
       "        vertical-align: top;\n",
       "    }\n",
       "\n",
       "    .dataframe thead th {\n",
       "        text-align: right;\n",
       "    }\n",
       "</style>\n",
       "<table border=\"1\" class=\"dataframe\">\n",
       "  <thead>\n",
       "    <tr style=\"text-align: right;\">\n",
       "      <th></th>\n",
       "      <th>ORI</th>\n",
       "      <th>AGENCY NAME</th>\n",
       "      <th>POPULATION</th>\n",
       "      <th>VIOLENT CRIME</th>\n",
       "      <th>PROPERTY CRIME</th>\n",
       "      <th>MURDER</th>\n",
       "      <th>RAPE</th>\n",
       "      <th>ROBBERY</th>\n",
       "      <th>AGGRAVATED ASSAULT</th>\n",
       "      <th>BURGLARY</th>\n",
       "      <th>LARCENY</th>\n",
       "      <th>MTR VEHICLE THEFT</th>\n",
       "      <th>ARSON</th>\n",
       "    </tr>\n",
       "  </thead>\n",
       "  <tbody>\n",
       "    <tr>\n",
       "      <th>0</th>\n",
       "      <td>OH02538</td>\n",
       "      <td>OHIO DEPT OF NATURAL RESOURCES</td>\n",
       "      <td>NaN</td>\n",
       "      <td>NaN</td>\n",
       "      <td>NaN</td>\n",
       "      <td>NaN</td>\n",
       "      <td>NaN</td>\n",
       "      <td>NaN</td>\n",
       "      <td>NaN</td>\n",
       "      <td>NaN</td>\n",
       "      <td>NaN</td>\n",
       "      <td>NaN</td>\n",
       "      <td>NaN</td>\n",
       "    </tr>\n",
       "    <tr>\n",
       "      <th>1</th>\n",
       "      <td>OHOHP00</td>\n",
       "      <td>OHIO STATE HGHWAY PATROL</td>\n",
       "      <td>NaN</td>\n",
       "      <td>280</td>\n",
       "      <td>209</td>\n",
       "      <td>3.0</td>\n",
       "      <td>42</td>\n",
       "      <td>6</td>\n",
       "      <td>229</td>\n",
       "      <td>3</td>\n",
       "      <td>157</td>\n",
       "      <td>49</td>\n",
       "      <td>4</td>\n",
       "    </tr>\n",
       "    <tr>\n",
       "      <th>2</th>\n",
       "      <td>NaN</td>\n",
       "      <td>TOTAL</td>\n",
       "      <td>NaN</td>\n",
       "      <td>280</td>\n",
       "      <td>209</td>\n",
       "      <td>3.0</td>\n",
       "      <td>42</td>\n",
       "      <td>6</td>\n",
       "      <td>229</td>\n",
       "      <td>3</td>\n",
       "      <td>157</td>\n",
       "      <td>49</td>\n",
       "      <td>4</td>\n",
       "    </tr>\n",
       "    <tr>\n",
       "      <th>3</th>\n",
       "      <td>NaN</td>\n",
       "      <td>NaN</td>\n",
       "      <td>NaN</td>\n",
       "      <td>NaN</td>\n",
       "      <td>NaN</td>\n",
       "      <td>NaN</td>\n",
       "      <td>NaN</td>\n",
       "      <td>NaN</td>\n",
       "      <td>NaN</td>\n",
       "      <td>NaN</td>\n",
       "      <td>NaN</td>\n",
       "      <td>NaN</td>\n",
       "      <td>NaN</td>\n",
       "    </tr>\n",
       "    <tr>\n",
       "      <th>4</th>\n",
       "      <td>OH00102</td>\n",
       "      <td>PEEBLES</td>\n",
       "      <td>1,746</td>\n",
       "      <td>3</td>\n",
       "      <td>3</td>\n",
       "      <td>NaN</td>\n",
       "      <td>NaN</td>\n",
       "      <td>NaN</td>\n",
       "      <td>3</td>\n",
       "      <td>1</td>\n",
       "      <td>1</td>\n",
       "      <td>1</td>\n",
       "      <td>NaN</td>\n",
       "    </tr>\n",
       "  </tbody>\n",
       "</table>\n",
       "</div>"
      ],
      "text/plain": [
       "       ORI                     AGENCY NAME POPULATION VIOLENT CRIME  \\\n",
       "0  OH02538  OHIO DEPT OF NATURAL RESOURCES        NaN           NaN   \n",
       "1  OHOHP00        OHIO STATE HGHWAY PATROL        NaN           280   \n",
       "2      NaN                           TOTAL        NaN           280   \n",
       "3      NaN                             NaN        NaN           NaN   \n",
       "4  OH00102                         PEEBLES      1,746             3   \n",
       "\n",
       "  PROPERTY CRIME  MURDER RAPE ROBBERY AGGRAVATED ASSAULT BURGLARY LARCENY  \\\n",
       "0            NaN     NaN  NaN     NaN                NaN      NaN     NaN   \n",
       "1            209     3.0   42       6                229        3     157   \n",
       "2            209     3.0   42       6                229        3     157   \n",
       "3            NaN     NaN  NaN     NaN                NaN      NaN     NaN   \n",
       "4              3     NaN  NaN     NaN                  3        1       1   \n",
       "\n",
       "  MTR VEHICLE THEFT ARSON  \n",
       "0               NaN   NaN  \n",
       "1                49     4  \n",
       "2                49     4  \n",
       "3               NaN   NaN  \n",
       "4                 1   NaN  "
      ]
     },
     "execution_count": 2,
     "metadata": {},
     "output_type": "execute_result"
    }
   ],
   "source": [
    "crime_2017 = pd.read_csv(\"ocjs_crimebycounty2017.csv\")\n",
    "crime_2017.head()"
   ]
  },
  {
   "cell_type": "code",
   "execution_count": 3,
   "metadata": {},
   "outputs": [
    {
     "data": {
      "text/html": [
       "<div>\n",
       "<style scoped>\n",
       "    .dataframe tbody tr th:only-of-type {\n",
       "        vertical-align: middle;\n",
       "    }\n",
       "\n",
       "    .dataframe tbody tr th {\n",
       "        vertical-align: top;\n",
       "    }\n",
       "\n",
       "    .dataframe thead th {\n",
       "        text-align: right;\n",
       "    }\n",
       "</style>\n",
       "<table border=\"1\" class=\"dataframe\">\n",
       "  <thead>\n",
       "    <tr style=\"text-align: right;\">\n",
       "      <th></th>\n",
       "      <th>ORI</th>\n",
       "      <th>AGENCY NAME</th>\n",
       "      <th>POPULATION</th>\n",
       "      <th>VIOLENT CRIME</th>\n",
       "      <th>PROPERTY CRIME</th>\n",
       "      <th>MURDER</th>\n",
       "      <th>RAPE</th>\n",
       "      <th>ROBBERY</th>\n",
       "      <th>AGGRAVATED ASSAULT</th>\n",
       "      <th>BURGLARY</th>\n",
       "      <th>LARCENY</th>\n",
       "      <th>MTR VEHICLE THEFT</th>\n",
       "      <th>ARSON</th>\n",
       "    </tr>\n",
       "  </thead>\n",
       "  <tbody>\n",
       "    <tr>\n",
       "      <th>0</th>\n",
       "      <td>OHCLP00</td>\n",
       "      <td>CLEVELAND</td>\n",
       "      <td>385,351</td>\n",
       "      <td>5,999</td>\n",
       "      <td>18,944</td>\n",
       "      <td>107.0</td>\n",
       "      <td>497</td>\n",
       "      <td>2,697</td>\n",
       "      <td>2,698</td>\n",
       "      <td>5,853</td>\n",
       "      <td>9,696</td>\n",
       "      <td>3,395</td>\n",
       "      <td>253</td>\n",
       "    </tr>\n",
       "    <tr>\n",
       "      <th>1</th>\n",
       "      <td>OH018A1</td>\n",
       "      <td>NOTRE DAME COLLEGE</td>\n",
       "      <td>NaN</td>\n",
       "      <td>2</td>\n",
       "      <td>38</td>\n",
       "      <td>NaN</td>\n",
       "      <td>2</td>\n",
       "      <td>NaN</td>\n",
       "      <td>NaN</td>\n",
       "      <td>9</td>\n",
       "      <td>29</td>\n",
       "      <td>NaN</td>\n",
       "      <td>NaN</td>\n",
       "    </tr>\n",
       "    <tr>\n",
       "      <th>2</th>\n",
       "      <td>OH01801</td>\n",
       "      <td>BAY VILLAGE</td>\n",
       "      <td>15,327</td>\n",
       "      <td>2</td>\n",
       "      <td>73</td>\n",
       "      <td>NaN</td>\n",
       "      <td>1</td>\n",
       "      <td>NaN</td>\n",
       "      <td>1</td>\n",
       "      <td>11</td>\n",
       "      <td>61</td>\n",
       "      <td>1</td>\n",
       "      <td>NaN</td>\n",
       "    </tr>\n",
       "    <tr>\n",
       "      <th>3</th>\n",
       "      <td>OH01803</td>\n",
       "      <td>BEDFORD</td>\n",
       "      <td>12,641</td>\n",
       "      <td>25</td>\n",
       "      <td>228</td>\n",
       "      <td>1.0</td>\n",
       "      <td>1</td>\n",
       "      <td>16</td>\n",
       "      <td>7</td>\n",
       "      <td>50</td>\n",
       "      <td>146</td>\n",
       "      <td>32</td>\n",
       "      <td>NaN</td>\n",
       "    </tr>\n",
       "    <tr>\n",
       "      <th>4</th>\n",
       "      <td>OH01804</td>\n",
       "      <td>BEDFORD HEIGHTS</td>\n",
       "      <td>10,558</td>\n",
       "      <td>22</td>\n",
       "      <td>255</td>\n",
       "      <td>1.0</td>\n",
       "      <td>1</td>\n",
       "      <td>9</td>\n",
       "      <td>11</td>\n",
       "      <td>32</td>\n",
       "      <td>173</td>\n",
       "      <td>50</td>\n",
       "      <td>NaN</td>\n",
       "    </tr>\n",
       "  </tbody>\n",
       "</table>\n",
       "</div>"
      ],
      "text/plain": [
       "       ORI         AGENCY NAME POPULATION VIOLENT CRIME PROPERTY CRIME  \\\n",
       "0  OHCLP00           CLEVELAND    385,351         5,999         18,944   \n",
       "1  OH018A1  NOTRE DAME COLLEGE        NaN             2             38   \n",
       "2  OH01801         BAY VILLAGE     15,327             2             73   \n",
       "3  OH01803             BEDFORD     12,641            25            228   \n",
       "4  OH01804     BEDFORD HEIGHTS     10,558            22            255   \n",
       "\n",
       "   MURDER RAPE ROBBERY AGGRAVATED ASSAULT BURGLARY LARCENY MTR VEHICLE THEFT  \\\n",
       "0   107.0  497   2,697              2,698    5,853   9,696             3,395   \n",
       "1     NaN    2     NaN                NaN        9      29               NaN   \n",
       "2     NaN    1     NaN                  1       11      61                 1   \n",
       "3     1.0    1      16                  7       50     146                32   \n",
       "4     1.0    1       9                 11       32     173                50   \n",
       "\n",
       "  ARSON  \n",
       "0   253  \n",
       "1   NaN  \n",
       "2   NaN  \n",
       "3   NaN  \n",
       "4   NaN  "
      ]
     },
     "execution_count": 3,
     "metadata": {},
     "output_type": "execute_result"
    }
   ],
   "source": [
    "cuy_crime=crime_2017.loc[153:199, :].reset_index(drop=True)\n",
    "cuy_crime.head()"
   ]
  },
  {
   "cell_type": "code",
   "execution_count": 4,
   "metadata": {},
   "outputs": [
    {
     "data": {
      "text/html": [
       "<div>\n",
       "<style scoped>\n",
       "    .dataframe tbody tr th:only-of-type {\n",
       "        vertical-align: middle;\n",
       "    }\n",
       "\n",
       "    .dataframe tbody tr th {\n",
       "        vertical-align: top;\n",
       "    }\n",
       "\n",
       "    .dataframe thead th {\n",
       "        text-align: right;\n",
       "    }\n",
       "</style>\n",
       "<table border=\"1\" class=\"dataframe\">\n",
       "  <thead>\n",
       "    <tr style=\"text-align: right;\">\n",
       "      <th></th>\n",
       "      <th>ORI</th>\n",
       "      <th>AGENCY NAME</th>\n",
       "      <th>POPULATION</th>\n",
       "      <th>VIOLENT CRIME</th>\n",
       "      <th>PROPERTY CRIME</th>\n",
       "      <th>MURDER</th>\n",
       "      <th>RAPE</th>\n",
       "      <th>ROBBERY</th>\n",
       "      <th>AGGRAVATED ASSAULT</th>\n",
       "      <th>BURGLARY</th>\n",
       "      <th>LARCENY</th>\n",
       "      <th>MTR VEHICLE THEFT</th>\n",
       "      <th>ARSON</th>\n",
       "    </tr>\n",
       "  </thead>\n",
       "  <tbody>\n",
       "    <tr>\n",
       "      <th>0</th>\n",
       "      <td>OHCLP00</td>\n",
       "      <td>CLEVELAND</td>\n",
       "      <td>385,351</td>\n",
       "      <td>5,999</td>\n",
       "      <td>18,944</td>\n",
       "      <td>107.0</td>\n",
       "      <td>497</td>\n",
       "      <td>2,697</td>\n",
       "      <td>2,698</td>\n",
       "      <td>5,853</td>\n",
       "      <td>9,696</td>\n",
       "      <td>3,395</td>\n",
       "      <td>253</td>\n",
       "    </tr>\n",
       "    <tr>\n",
       "      <th>1</th>\n",
       "      <td>OH018A1</td>\n",
       "      <td>NOTRE DAME COLLEGE</td>\n",
       "      <td>0</td>\n",
       "      <td>2</td>\n",
       "      <td>38</td>\n",
       "      <td>0.0</td>\n",
       "      <td>2</td>\n",
       "      <td>0</td>\n",
       "      <td>0</td>\n",
       "      <td>9</td>\n",
       "      <td>29</td>\n",
       "      <td>0</td>\n",
       "      <td>0</td>\n",
       "    </tr>\n",
       "    <tr>\n",
       "      <th>2</th>\n",
       "      <td>OH01801</td>\n",
       "      <td>BAY VILLAGE</td>\n",
       "      <td>15,327</td>\n",
       "      <td>2</td>\n",
       "      <td>73</td>\n",
       "      <td>0.0</td>\n",
       "      <td>1</td>\n",
       "      <td>0</td>\n",
       "      <td>1</td>\n",
       "      <td>11</td>\n",
       "      <td>61</td>\n",
       "      <td>1</td>\n",
       "      <td>0</td>\n",
       "    </tr>\n",
       "    <tr>\n",
       "      <th>3</th>\n",
       "      <td>OH01803</td>\n",
       "      <td>BEDFORD</td>\n",
       "      <td>12,641</td>\n",
       "      <td>25</td>\n",
       "      <td>228</td>\n",
       "      <td>1.0</td>\n",
       "      <td>1</td>\n",
       "      <td>16</td>\n",
       "      <td>7</td>\n",
       "      <td>50</td>\n",
       "      <td>146</td>\n",
       "      <td>32</td>\n",
       "      <td>0</td>\n",
       "    </tr>\n",
       "    <tr>\n",
       "      <th>4</th>\n",
       "      <td>OH01804</td>\n",
       "      <td>BEDFORD HEIGHTS</td>\n",
       "      <td>10,558</td>\n",
       "      <td>22</td>\n",
       "      <td>255</td>\n",
       "      <td>1.0</td>\n",
       "      <td>1</td>\n",
       "      <td>9</td>\n",
       "      <td>11</td>\n",
       "      <td>32</td>\n",
       "      <td>173</td>\n",
       "      <td>50</td>\n",
       "      <td>0</td>\n",
       "    </tr>\n",
       "  </tbody>\n",
       "</table>\n",
       "</div>"
      ],
      "text/plain": [
       "       ORI         AGENCY NAME POPULATION VIOLENT CRIME PROPERTY CRIME  \\\n",
       "0  OHCLP00           CLEVELAND    385,351         5,999         18,944   \n",
       "1  OH018A1  NOTRE DAME COLLEGE          0             2             38   \n",
       "2  OH01801         BAY VILLAGE     15,327             2             73   \n",
       "3  OH01803             BEDFORD     12,641            25            228   \n",
       "4  OH01804     BEDFORD HEIGHTS     10,558            22            255   \n",
       "\n",
       "   MURDER RAPE ROBBERY AGGRAVATED ASSAULT BURGLARY LARCENY MTR VEHICLE THEFT  \\\n",
       "0   107.0  497   2,697              2,698    5,853   9,696             3,395   \n",
       "1     0.0    2       0                  0        9      29                 0   \n",
       "2     0.0    1       0                  1       11      61                 1   \n",
       "3     1.0    1      16                  7       50     146                32   \n",
       "4     1.0    1       9                 11       32     173                50   \n",
       "\n",
       "  ARSON  \n",
       "0   253  \n",
       "1     0  \n",
       "2     0  \n",
       "3     0  \n",
       "4     0  "
      ]
     },
     "execution_count": 4,
     "metadata": {},
     "output_type": "execute_result"
    }
   ],
   "source": [
    "cuy_crime_null=cuy_crime.fillna(0)\n",
    "cuy_crime_null.head()"
   ]
  },
  {
   "cell_type": "code",
   "execution_count": 5,
   "metadata": {},
   "outputs": [
    {
     "data": {
      "text/html": [
       "<div>\n",
       "<style scoped>\n",
       "    .dataframe tbody tr th:only-of-type {\n",
       "        vertical-align: middle;\n",
       "    }\n",
       "\n",
       "    .dataframe tbody tr th {\n",
       "        vertical-align: top;\n",
       "    }\n",
       "\n",
       "    .dataframe thead th {\n",
       "        text-align: right;\n",
       "    }\n",
       "</style>\n",
       "<table border=\"1\" class=\"dataframe\">\n",
       "  <thead>\n",
       "    <tr style=\"text-align: right;\">\n",
       "      <th></th>\n",
       "      <th>ORI</th>\n",
       "      <th>AGENCY NAME</th>\n",
       "      <th>POPULATION</th>\n",
       "      <th>VIOLENT CRIME</th>\n",
       "      <th>PROPERTY CRIME</th>\n",
       "      <th>MURDER</th>\n",
       "      <th>RAPE</th>\n",
       "      <th>ROBBERY</th>\n",
       "      <th>AGGRAVATED ASSAULT</th>\n",
       "      <th>BURGLARY</th>\n",
       "      <th>LARCENY</th>\n",
       "      <th>MTR VEHICLE THEFT</th>\n",
       "      <th>ARSON</th>\n",
       "    </tr>\n",
       "  </thead>\n",
       "  <tbody>\n",
       "    <tr>\n",
       "      <th>0</th>\n",
       "      <td>OHCLP00</td>\n",
       "      <td>CLEVELAND</td>\n",
       "      <td>385,351</td>\n",
       "      <td>5,999</td>\n",
       "      <td>18,944</td>\n",
       "      <td>107.0</td>\n",
       "      <td>497</td>\n",
       "      <td>2,697</td>\n",
       "      <td>2,698</td>\n",
       "      <td>5,853</td>\n",
       "      <td>9,696</td>\n",
       "      <td>3,395</td>\n",
       "      <td>253</td>\n",
       "    </tr>\n",
       "    <tr>\n",
       "      <th>1</th>\n",
       "      <td>OH01801</td>\n",
       "      <td>BAY VILLAGE</td>\n",
       "      <td>15,327</td>\n",
       "      <td>2</td>\n",
       "      <td>73</td>\n",
       "      <td>0.0</td>\n",
       "      <td>1</td>\n",
       "      <td>0</td>\n",
       "      <td>1</td>\n",
       "      <td>11</td>\n",
       "      <td>61</td>\n",
       "      <td>1</td>\n",
       "      <td>0</td>\n",
       "    </tr>\n",
       "    <tr>\n",
       "      <th>2</th>\n",
       "      <td>OH01803</td>\n",
       "      <td>BEDFORD</td>\n",
       "      <td>12,641</td>\n",
       "      <td>25</td>\n",
       "      <td>228</td>\n",
       "      <td>1.0</td>\n",
       "      <td>1</td>\n",
       "      <td>16</td>\n",
       "      <td>7</td>\n",
       "      <td>50</td>\n",
       "      <td>146</td>\n",
       "      <td>32</td>\n",
       "      <td>0</td>\n",
       "    </tr>\n",
       "    <tr>\n",
       "      <th>3</th>\n",
       "      <td>OH01804</td>\n",
       "      <td>BEDFORD HEIGHTS</td>\n",
       "      <td>10,558</td>\n",
       "      <td>22</td>\n",
       "      <td>255</td>\n",
       "      <td>1.0</td>\n",
       "      <td>1</td>\n",
       "      <td>9</td>\n",
       "      <td>11</td>\n",
       "      <td>32</td>\n",
       "      <td>173</td>\n",
       "      <td>50</td>\n",
       "      <td>0</td>\n",
       "    </tr>\n",
       "    <tr>\n",
       "      <th>4</th>\n",
       "      <td>OH01806</td>\n",
       "      <td>BEREA</td>\n",
       "      <td>18,871</td>\n",
       "      <td>8</td>\n",
       "      <td>140</td>\n",
       "      <td>0.0</td>\n",
       "      <td>1</td>\n",
       "      <td>1</td>\n",
       "      <td>6</td>\n",
       "      <td>27</td>\n",
       "      <td>105</td>\n",
       "      <td>8</td>\n",
       "      <td>2</td>\n",
       "    </tr>\n",
       "  </tbody>\n",
       "</table>\n",
       "</div>"
      ],
      "text/plain": [
       "       ORI      AGENCY NAME POPULATION VIOLENT CRIME PROPERTY CRIME  MURDER  \\\n",
       "0  OHCLP00        CLEVELAND    385,351         5,999         18,944   107.0   \n",
       "1  OH01801      BAY VILLAGE     15,327             2             73     0.0   \n",
       "2  OH01803          BEDFORD     12,641            25            228     1.0   \n",
       "3  OH01804  BEDFORD HEIGHTS     10,558            22            255     1.0   \n",
       "4  OH01806            BEREA     18,871             8            140     0.0   \n",
       "\n",
       "  RAPE ROBBERY AGGRAVATED ASSAULT BURGLARY LARCENY MTR VEHICLE THEFT ARSON  \n",
       "0  497   2,697              2,698    5,853   9,696             3,395   253  \n",
       "1    1       0                  1       11      61                 1     0  \n",
       "2    1      16                  7       50     146                32     0  \n",
       "3    1       9                 11       32     173                50     0  \n",
       "4    1       1                  6       27     105                 8     2  "
      ]
     },
     "execution_count": 5,
     "metadata": {},
     "output_type": "execute_result"
    }
   ],
   "source": [
    "cuy_data=cuy_crime_null.drop(cuy_crime_null[cuy_crime_null[\"POPULATION\"]==0].index).reset_index(drop=True)\n",
    "cuy_data.head()"
   ]
  },
  {
   "cell_type": "code",
   "execution_count": 8,
   "metadata": {},
   "outputs": [
    {
     "name": "stdout",
     "output_type": "stream",
     "text": [
      "<class 'pandas.core.frame.DataFrame'>\n",
      "RangeIndex: 42 entries, 0 to 41\n",
      "Data columns (total 14 columns):\n",
      " #   Column              Non-Null Count  Dtype  \n",
      "---  ------              --------------  -----  \n",
      " 0   ORI                 42 non-null     object \n",
      " 1   AGENCY NAME         42 non-null     object \n",
      " 2   POPULATION          42 non-null     object \n",
      " 3   VIOLENT CRIME       42 non-null     object \n",
      " 4   PROPERTY CRIME      42 non-null     object \n",
      " 5   MURDER              42 non-null     float64\n",
      " 6   RAPE                42 non-null     object \n",
      " 7   ROBBERY             42 non-null     object \n",
      " 8   AGGRAVATED ASSAULT  42 non-null     object \n",
      " 9   BURGLARY            42 non-null     object \n",
      " 10  LARCENY             42 non-null     object \n",
      " 11  MTR VEHICLE THEFT   42 non-null     object \n",
      " 12  ARSON               42 non-null     object \n",
      " 13  TOTALS              42 non-null     float64\n",
      "dtypes: float64(2), object(12)\n",
      "memory usage: 4.7+ KB\n"
     ]
    }
   ],
   "source": [
    "#Summary of cuy_data_df\n",
    "cuy_data.info()"
   ]
  },
  {
   "cell_type": "code",
   "execution_count": 9,
   "metadata": {},
   "outputs": [
    {
     "name": "stdout",
     "output_type": "stream",
     "text": [
      "<class 'pandas.core.frame.DataFrame'>\n",
      "RangeIndex: 42 entries, 0 to 41\n",
      "Data columns (total 14 columns):\n",
      " #   Column              Non-Null Count  Dtype  \n",
      "---  ------              --------------  -----  \n",
      " 0   ORI                 42 non-null     object \n",
      " 1   AGENCY NAME         42 non-null     object \n",
      " 2   POPULATION          42 non-null     int64  \n",
      " 3   VIOLENT CRIME       42 non-null     int64  \n",
      " 4   PROPERTY CRIME      42 non-null     int64  \n",
      " 5   MURDER              42 non-null     float64\n",
      " 6   RAPE                42 non-null     int64  \n",
      " 7   ROBBERY             42 non-null     int64  \n",
      " 8   AGGRAVATED ASSAULT  42 non-null     int64  \n",
      " 9   BURGLARY            42 non-null     int64  \n",
      " 10  LARCENY             42 non-null     int64  \n",
      " 11  MTR VEHICLE THEFT   42 non-null     int64  \n",
      " 12  ARSON               42 non-null     int64  \n",
      " 13  TOTALS              42 non-null     float64\n",
      "dtypes: float64(2), int64(10), object(2)\n",
      "memory usage: 4.7+ KB\n"
     ]
    }
   ],
   "source": [
    "#df.replace(',','', regex=True, inplace=True)\n",
    "#Remove commas from numerical values to change values to integers\n",
    "cuy_data.replace(',','', regex=True, inplace=True)\n",
    "cuy_data.head()\n",
    "\n",
    "#Option 1:  df[\"a\"] = df[\"a\"].astype(str).astype(int)\n",
    "#Option 2:  cuy_data[\"POPULATION\"] = cuy_data[\"POPULATION\"].astype(str).astype(int)\n",
    "#Option 3:  pd.to_numeric(s, errors='coerce')\n",
    "cuy_data[\"POPULATION\"]=pd.to_numeric(cuy_data[\"POPULATION\"])\n",
    "cuy_data[\"VIOLENT CRIME\"]=pd.to_numeric(cuy_data[\"VIOLENT CRIME\"])\n",
    "cuy_data[\"PROPERTY CRIME\"]=pd.to_numeric(cuy_data[\"PROPERTY CRIME\"])\n",
    "cuy_data[\"MURDER\"]=pd.to_numeric(cuy_data[\"MURDER\"])\n",
    "cuy_data[\"RAPE\"]=pd.to_numeric(cuy_data[\"RAPE\"])\n",
    "cuy_data[\"ROBBERY\"]=pd.to_numeric(cuy_data[\"ROBBERY\"])\n",
    "cuy_data[\"AGGRAVATED ASSAULT\"]=pd.to_numeric(cuy_data[\"AGGRAVATED ASSAULT\"])\n",
    "cuy_data[\"BURGLARY\"]=pd.to_numeric(cuy_data[\"BURGLARY\"])\n",
    "cuy_data[\"LARCENY\"]=pd.to_numeric(cuy_data[\"LARCENY\"])\n",
    "cuy_data[\"MTR VEHICLE THEFT\"]=pd.to_numeric(cuy_data[\"MTR VEHICLE THEFT\"])\n",
    "cuy_data[\"ARSON\"]=pd.to_numeric(cuy_data[\"ARSON\"])\n",
    "#Summary of cuy_data_df\n",
    "cuy_data.info()"
   ]
  },
  {
   "cell_type": "code",
   "execution_count": 77,
   "metadata": {},
   "outputs": [
    {
     "data": {
      "text/html": [
       "<div>\n",
       "<style scoped>\n",
       "    .dataframe tbody tr th:only-of-type {\n",
       "        vertical-align: middle;\n",
       "    }\n",
       "\n",
       "    .dataframe tbody tr th {\n",
       "        vertical-align: top;\n",
       "    }\n",
       "\n",
       "    .dataframe thead th {\n",
       "        text-align: right;\n",
       "    }\n",
       "</style>\n",
       "<table border=\"1\" class=\"dataframe\">\n",
       "  <thead>\n",
       "    <tr style=\"text-align: right;\">\n",
       "      <th></th>\n",
       "      <th>ORI</th>\n",
       "      <th>AGENCY NAME</th>\n",
       "      <th>POPULATION</th>\n",
       "      <th>VIOLENT CRIME</th>\n",
       "      <th>PROPERTY CRIME</th>\n",
       "      <th>MURDER</th>\n",
       "      <th>RAPE</th>\n",
       "      <th>ROBBERY</th>\n",
       "      <th>AGGRAVATED ASSAULT</th>\n",
       "      <th>BURGLARY</th>\n",
       "      <th>LARCENY</th>\n",
       "      <th>MTR VEHICLE THEFT</th>\n",
       "      <th>ARSON</th>\n",
       "      <th>TOTALS</th>\n",
       "    </tr>\n",
       "  </thead>\n",
       "  <tbody>\n",
       "    <tr>\n",
       "      <th>0</th>\n",
       "      <td>OHCLP00</td>\n",
       "      <td>CLEVELAND</td>\n",
       "      <td>385351</td>\n",
       "      <td>5999</td>\n",
       "      <td>18944</td>\n",
       "      <td>107.0</td>\n",
       "      <td>497</td>\n",
       "      <td>2697</td>\n",
       "      <td>2698</td>\n",
       "      <td>5853</td>\n",
       "      <td>9696</td>\n",
       "      <td>3395</td>\n",
       "      <td>253</td>\n",
       "      <td>150524.0</td>\n",
       "    </tr>\n",
       "    <tr>\n",
       "      <th>1</th>\n",
       "      <td>OH01801</td>\n",
       "      <td>BAY VILLAGE</td>\n",
       "      <td>15327</td>\n",
       "      <td>2</td>\n",
       "      <td>73</td>\n",
       "      <td>0.0</td>\n",
       "      <td>1</td>\n",
       "      <td>0</td>\n",
       "      <td>1</td>\n",
       "      <td>11</td>\n",
       "      <td>61</td>\n",
       "      <td>1</td>\n",
       "      <td>0</td>\n",
       "      <td>450.0</td>\n",
       "    </tr>\n",
       "    <tr>\n",
       "      <th>2</th>\n",
       "      <td>OH01803</td>\n",
       "      <td>BEDFORD</td>\n",
       "      <td>12641</td>\n",
       "      <td>25</td>\n",
       "      <td>228</td>\n",
       "      <td>1.0</td>\n",
       "      <td>1</td>\n",
       "      <td>16</td>\n",
       "      <td>7</td>\n",
       "      <td>50</td>\n",
       "      <td>146</td>\n",
       "      <td>32</td>\n",
       "      <td>0</td>\n",
       "      <td>1519.0</td>\n",
       "    </tr>\n",
       "    <tr>\n",
       "      <th>3</th>\n",
       "      <td>OH01804</td>\n",
       "      <td>BEDFORD HEIGHTS</td>\n",
       "      <td>10558</td>\n",
       "      <td>22</td>\n",
       "      <td>255</td>\n",
       "      <td>1.0</td>\n",
       "      <td>1</td>\n",
       "      <td>9</td>\n",
       "      <td>11</td>\n",
       "      <td>32</td>\n",
       "      <td>173</td>\n",
       "      <td>50</td>\n",
       "      <td>0</td>\n",
       "      <td>1663.0</td>\n",
       "    </tr>\n",
       "    <tr>\n",
       "      <th>4</th>\n",
       "      <td>OH01806</td>\n",
       "      <td>BEREA</td>\n",
       "      <td>18871</td>\n",
       "      <td>8</td>\n",
       "      <td>140</td>\n",
       "      <td>0.0</td>\n",
       "      <td>1</td>\n",
       "      <td>1</td>\n",
       "      <td>6</td>\n",
       "      <td>27</td>\n",
       "      <td>105</td>\n",
       "      <td>8</td>\n",
       "      <td>2</td>\n",
       "      <td>894.0</td>\n",
       "    </tr>\n",
       "  </tbody>\n",
       "</table>\n",
       "</div>"
      ],
      "text/plain": [
       "       ORI      AGENCY NAME  POPULATION  VIOLENT CRIME  PROPERTY CRIME  \\\n",
       "0  OHCLP00        CLEVELAND      385351           5999           18944   \n",
       "1  OH01801      BAY VILLAGE       15327              2              73   \n",
       "2  OH01803          BEDFORD       12641             25             228   \n",
       "3  OH01804  BEDFORD HEIGHTS       10558             22             255   \n",
       "4  OH01806            BEREA       18871              8             140   \n",
       "\n",
       "   MURDER  RAPE  ROBBERY  AGGRAVATED ASSAULT  BURGLARY  LARCENY  \\\n",
       "0   107.0   497     2697                2698      5853     9696   \n",
       "1     0.0     1        0                   1        11       61   \n",
       "2     1.0     1       16                   7        50      146   \n",
       "3     1.0     1        9                  11        32      173   \n",
       "4     0.0     1        1                   6        27      105   \n",
       "\n",
       "   MTR VEHICLE THEFT  ARSON    TOTALS  \n",
       "0               3395    253  150524.0  \n",
       "1                  1      0     450.0  \n",
       "2                 32      0    1519.0  \n",
       "3                 50      0    1663.0  \n",
       "4                  8      2     894.0  "
      ]
     },
     "execution_count": 77,
     "metadata": {},
     "output_type": "execute_result"
    }
   ],
   "source": [
    "cuy_data['TOTALS'] = cuy_data.drop('POPULATION', axis=1).sum(axis=1)\n",
    "cuy_data.head()"
   ]
  },
  {
   "cell_type": "code",
   "execution_count": 75,
   "metadata": {},
   "outputs": [
    {
     "data": {
      "image/png": "[encoded data removed]",
      "text/plain": [
       "<Figure size 432x288 with 1 Axes>"
      ]
     },
     "metadata": {},
     "output_type": "display_data"
    }
   ],
   "source": [
    "#Pie chart of totals\n",
    "plot = cuy_data.plot.pie(y='TOTALS')"
   ]
  },
  {
   "cell_type": "code",
   "execution_count": 10,
   "metadata": {},
   "outputs": [
    {
     "data": {
      "text/plain": [
       "<matplotlib.axes._subplots.AxesSubplot at 0x7fd7c0d0d490>"
      ]
     },
     "execution_count": 10,
     "metadata": {},
     "output_type": "execute_result"
    },
    {
     "data": {
      "image/png": "[encoded data removed]",
      "text/plain": [
       "<Figure size 432x288 with 1 Axes>"
      ]
     },
     "metadata": {
      "needs_background": "light"
     },
     "output_type": "display_data"
    },
    {
     "data": {
      "image/png": "[encoded data removed]",
      "text/plain": [
       "<Figure size 432x288 with 1 Axes>"
      ]
     },
     "metadata": {
      "needs_background": "light"
     },
     "output_type": "display_data"
    }
   ],
   "source": [
    "cuy_data.plot.bar(x=\"AGENCY NAME\", y=\"POPULATION\")\n",
    "cuy_data.plot.bar(x=\"AGENCY NAME\", y=\"VIOLENT CRIME\")"
   ]
  },
  {
   "cell_type": "code",
   "execution_count": 11,
   "metadata": {},
   "outputs": [],
   "source": [
    "asian=[]\n",
    "black=[]\n",
    "amer_ind=[]\n",
    "white=[]\n",
    "unknown=[]"
   ]
  },
  {
   "cell_type": "code",
   "execution_count": 12,
   "metadata": {},
   "outputs": [],
   "source": [
    "url_race=f\"https://api.usa.gov/crime/fbi/sapi/api/nibrs/violent-crime/offender/agencies/OHCLP0000/race?api_key={fbi_key}\"\n",
    "response=requests.get(url_race).json()"
   ]
  },
  {
   "cell_type": "code",
   "execution_count": 13,
   "metadata": {},
   "outputs": [],
   "source": [
    "#Get Asian count for violent crime in Cle\n",
    "asian.append(response[\"data\"][13][\"value\"])\n"
   ]
  },
  {
   "cell_type": "code",
   "execution_count": 14,
   "metadata": {},
   "outputs": [
    {
     "data": {
      "text/plain": [
       "3986"
      ]
     },
     "execution_count": 14,
     "metadata": {},
     "output_type": "execute_result"
    }
   ],
   "source": [
    "#Get Black or African American count for violent crime in Cle\n",
    "black_count=response[\"data\"][43][\"value\"]\n",
    "black_count"
   ]
  },
  {
   "cell_type": "code",
   "execution_count": 15,
   "metadata": {},
   "outputs": [
    {
     "data": {
      "text/plain": [
       "3"
      ]
     },
     "execution_count": 15,
     "metadata": {},
     "output_type": "execute_result"
    }
   ],
   "source": [
    "#Get American Indian count for violent crime in Cle\n",
    "ind_count=response[\"data\"][58][\"value\"]\n",
    "ind_count"
   ]
  },
  {
   "cell_type": "code",
   "execution_count": 16,
   "metadata": {},
   "outputs": [
    {
     "data": {
      "text/plain": [
       "708"
      ]
     },
     "execution_count": 16,
     "metadata": {},
     "output_type": "execute_result"
    }
   ],
   "source": [
    "#Get White count for violent crime in Cle\n",
    "white_count=response[\"data\"][73][\"value\"]\n",
    "white_count"
   ]
  },
  {
   "cell_type": "code",
   "execution_count": 17,
   "metadata": {},
   "outputs": [
    {
     "data": {
      "text/plain": [
       "408"
      ]
     },
     "execution_count": 17,
     "metadata": {},
     "output_type": "execute_result"
    }
   ],
   "source": [
    "#Get Unknown count for violent crime in Cle\n",
    "unknown_count=response[\"data\"][88][\"value\"]\n",
    "unknown_count"
   ]
  },
  {
   "cell_type": "code",
   "execution_count": 18,
   "metadata": {},
   "outputs": [],
   "source": [
    "#Get 2017 Property Crime data for Cle\n",
    "url_property=f\"https://api.usa.gov/crime/fbi/sapi/api/nibrs/property-crime/offender/agencies/OHCLP0000/race?api_key={fbi_key}\"\n",
    "response=requests.get(url_property).json()"
   ]
  },
  {
   "cell_type": "code",
   "execution_count": 19,
   "metadata": {},
   "outputs": [],
   "source": [
    "#Get Asian count for property crime in Cle \n",
    "asian.append(response[\"data\"][13][\"value\"])\n"
   ]
  },
  {
   "cell_type": "code",
   "execution_count": 20,
   "metadata": {},
   "outputs": [
    {
     "data": {
      "text/plain": [
       "4936"
      ]
     },
     "execution_count": 20,
     "metadata": {},
     "output_type": "execute_result"
    }
   ],
   "source": [
    "#Get Black or African American count for property crime in Cle\n",
    "black_count_property=response[\"data\"][43][\"value\"]\n",
    "black_count_property"
   ]
  },
  {
   "cell_type": "code",
   "execution_count": 21,
   "metadata": {},
   "outputs": [
    {
     "data": {
      "text/plain": [
       "5"
      ]
     },
     "execution_count": 21,
     "metadata": {},
     "output_type": "execute_result"
    }
   ],
   "source": [
    "#Get American Indian count for violent crime in Cle\n",
    "ind_count_property=response[\"data\"][58][\"value\"]\n",
    "ind_count_property"
   ]
  },
  {
   "cell_type": "code",
   "execution_count": 22,
   "metadata": {},
   "outputs": [
    {
     "data": {
      "text/plain": [
       "1849"
      ]
     },
     "execution_count": 22,
     "metadata": {},
     "output_type": "execute_result"
    }
   ],
   "source": [
    "#Get White count for violent crime in Cle\n",
    "white_count_property=response[\"data\"][73][\"value\"]\n",
    "white_count_property"
   ]
  },
  {
   "cell_type": "code",
   "execution_count": 23,
   "metadata": {},
   "outputs": [
    {
     "data": {
      "text/plain": [
       "2824"
      ]
     },
     "execution_count": 23,
     "metadata": {},
     "output_type": "execute_result"
    }
   ],
   "source": [
    "#Get Unknown count for violent crime in Cle\n",
    "unknown_count_property=response[\"data\"][88][\"value\"]\n",
    "unknown_count_property"
   ]
  },
  {
   "cell_type": "code",
   "execution_count": 24,
   "metadata": {},
   "outputs": [],
   "source": [
    "#Get 2017 Homicide data for Cle\n",
    "url_homicide=f\"https://api.usa.gov/crime/fbi/sapi/api/nibrs/homicide/offender/agencies/OHCLP0000/race?api_key={fbi_key}\"\n",
    "response=requests.get(url_homicide).json()"
   ]
  },
  {
   "cell_type": "code",
   "execution_count": 25,
   "metadata": {},
   "outputs": [],
   "source": [
    "#Get Asian count for homicide crime in Cle \n",
    "asian.append(response[\"data\"][13][\"value\"])\n"
   ]
  },
  {
   "cell_type": "code",
   "execution_count": 26,
   "metadata": {},
   "outputs": [
    {
     "data": {
      "text/plain": [
       "46"
      ]
     },
     "execution_count": 26,
     "metadata": {},
     "output_type": "execute_result"
    }
   ],
   "source": [
    "#Get Black or African American count for homicide crime in Cle\n",
    "black_count_homicide=response[\"data\"][43][\"value\"]\n",
    "black_count_homicide"
   ]
  },
  {
   "cell_type": "code",
   "execution_count": 27,
   "metadata": {},
   "outputs": [
    {
     "data": {
      "text/plain": [
       "0"
      ]
     },
     "execution_count": 27,
     "metadata": {},
     "output_type": "execute_result"
    }
   ],
   "source": [
    "#Get American Indian count for homicide crime in Cle\n",
    "ind_count_homicide=response[\"data\"][58][\"value\"]\n",
    "ind_count_homicide"
   ]
  },
  {
   "cell_type": "code",
   "execution_count": 28,
   "metadata": {},
   "outputs": [
    {
     "data": {
      "text/plain": [
       "2"
      ]
     },
     "execution_count": 28,
     "metadata": {},
     "output_type": "execute_result"
    }
   ],
   "source": [
    "#Get White count for homicide crime in Cle\n",
    "white_count_homicide=response[\"data\"][73][\"value\"]\n",
    "white_count_homicide"
   ]
  },
  {
   "cell_type": "code",
   "execution_count": 29,
   "metadata": {},
   "outputs": [
    {
     "data": {
      "text/plain": [
       "10"
      ]
     },
     "execution_count": 29,
     "metadata": {},
     "output_type": "execute_result"
    }
   ],
   "source": [
    "#Get Unknown count for homicide crime in Cle\n",
    "unknown_count_homicide=response[\"data\"][88][\"value\"]\n",
    "unknown_count_homicide"
   ]
  },
  {
   "cell_type": "code",
   "execution_count": 30,
   "metadata": {},
   "outputs": [],
   "source": [
    "url_rape=f\"https://api.usa.gov/crime/fbi/sapi/api/nibrs/rape/offender/agencies/OHCLP0000/race?api_key={fbi_key}\"\n",
    "response=requests.get(url_rape).json()\n"
   ]
  },
  {
   "cell_type": "code",
   "execution_count": 31,
   "metadata": {},
   "outputs": [],
   "source": [
    "#Get Asian count for rape crime in Cle \n",
    "asian.append(response[\"data\"][13][\"value\"])\n"
   ]
  },
  {
   "cell_type": "code",
   "execution_count": 32,
   "metadata": {},
   "outputs": [
    {
     "data": {
      "text/plain": [
       "342"
      ]
     },
     "execution_count": 32,
     "metadata": {},
     "output_type": "execute_result"
    }
   ],
   "source": [
    "#Get Black or African American count for rape crime in Cle\n",
    "black_count_rape=response[\"data\"][43][\"value\"]\n",
    "black_count_rape"
   ]
  },
  {
   "cell_type": "code",
   "execution_count": 33,
   "metadata": {},
   "outputs": [
    {
     "data": {
      "text/plain": [
       "0"
      ]
     },
     "execution_count": 33,
     "metadata": {},
     "output_type": "execute_result"
    }
   ],
   "source": [
    "#Get American Indian count for rape crime in Cle\n",
    "ind_count_rape=response[\"data\"][58][\"value\"]\n",
    "ind_count_rape"
   ]
  },
  {
   "cell_type": "code",
   "execution_count": 34,
   "metadata": {},
   "outputs": [
    {
     "data": {
      "text/plain": [
       "120"
      ]
     },
     "execution_count": 34,
     "metadata": {},
     "output_type": "execute_result"
    }
   ],
   "source": [
    "#Get White count for rape crime in Cle\n",
    "white_count_rape=response[\"data\"][73][\"value\"]\n",
    "white_count_rape"
   ]
  },
  {
   "cell_type": "code",
   "execution_count": 35,
   "metadata": {},
   "outputs": [
    {
     "data": {
      "text/plain": [
       "31"
      ]
     },
     "execution_count": 35,
     "metadata": {},
     "output_type": "execute_result"
    }
   ],
   "source": [
    "#Get Unknown count for rape crime in Cle\n",
    "unknown_count_rape=response[\"data\"][88][\"value\"]\n",
    "unknown_count_rape"
   ]
  },
  {
   "cell_type": "code",
   "execution_count": 36,
   "metadata": {},
   "outputs": [],
   "source": [
    "url_robbery=f\"https://api.usa.gov/crime/fbi/sapi/api/nibrs/robbery/offender/agencies/OHCLP0000/race?api_key={fbi_key}\"\n",
    "response=requests.get(url_robbery).json()"
   ]
  },
  {
   "cell_type": "code",
   "execution_count": 37,
   "metadata": {},
   "outputs": [],
   "source": [
    "#Get Asian count for robbery crime in Cle \n",
    "asian.append(response[\"data\"][13][\"value\"])\n"
   ]
  },
  {
   "cell_type": "code",
   "execution_count": 38,
   "metadata": {},
   "outputs": [
    {
     "data": {
      "text/plain": [
       "2088"
      ]
     },
     "execution_count": 38,
     "metadata": {},
     "output_type": "execute_result"
    }
   ],
   "source": [
    "#Get Black or African American count for robbery crime in Cle\n",
    "black_count_robbery=response[\"data\"][43][\"value\"]\n",
    "black_count_robbery"
   ]
  },
  {
   "cell_type": "code",
   "execution_count": 39,
   "metadata": {},
   "outputs": [
    {
     "data": {
      "text/plain": [
       "0"
      ]
     },
     "execution_count": 39,
     "metadata": {},
     "output_type": "execute_result"
    }
   ],
   "source": [
    "#Get American Indian count for robbery crime in Cle\n",
    "ind_count_robbery=response[\"data\"][58][\"value\"]\n",
    "ind_count_robbery"
   ]
  },
  {
   "cell_type": "code",
   "execution_count": 40,
   "metadata": {},
   "outputs": [
    {
     "data": {
      "text/plain": [
       "252"
      ]
     },
     "execution_count": 40,
     "metadata": {},
     "output_type": "execute_result"
    }
   ],
   "source": [
    "#Get White count for robbery crime in Cle\n",
    "white_count_robbery=response[\"data\"][73][\"value\"]\n",
    "white_count_robbery"
   ]
  },
  {
   "cell_type": "code",
   "execution_count": 41,
   "metadata": {},
   "outputs": [
    {
     "data": {
      "text/plain": [
       "190"
      ]
     },
     "execution_count": 41,
     "metadata": {},
     "output_type": "execute_result"
    }
   ],
   "source": [
    "#Get Unknown count for robbery crime in Cle\n",
    "unknown_count_robbery=response[\"data\"][88][\"value\"]\n",
    "unknown_count_robbery"
   ]
  },
  {
   "cell_type": "code",
   "execution_count": 42,
   "metadata": {},
   "outputs": [],
   "source": [
    "url_agg_assault=f\"https://api.usa.gov/crime/fbi/sapi/api/nibrs/aggravated-assault/offender/agencies/OHCLP0000/race?api_key={fbi_key}\"\n",
    "response=requests.get(url_agg_assault).json()"
   ]
  },
  {
   "cell_type": "code",
   "execution_count": 43,
   "metadata": {},
   "outputs": [],
   "source": [
    "#Get Asian count for aggravated assault crime in Cle \n",
    "asian.append(response[\"data\"][13][\"value\"])\n"
   ]
  },
  {
   "cell_type": "code",
   "execution_count": 44,
   "metadata": {},
   "outputs": [
    {
     "data": {
      "text/plain": [
       "1510"
      ]
     },
     "execution_count": 44,
     "metadata": {},
     "output_type": "execute_result"
    }
   ],
   "source": [
    "#Get Black or African American count for aggravated assault crime in Cle\n",
    "black_count_agg=response[\"data\"][43][\"value\"]\n",
    "black_count_agg"
   ]
  },
  {
   "cell_type": "code",
   "execution_count": 45,
   "metadata": {},
   "outputs": [
    {
     "data": {
      "text/plain": [
       "3"
      ]
     },
     "execution_count": 45,
     "metadata": {},
     "output_type": "execute_result"
    }
   ],
   "source": [
    "#Get American Indian count for aggravated assault crime in Cle\n",
    "ind_count_agg=response[\"data\"][58][\"value\"]\n",
    "ind_count_agg"
   ]
  },
  {
   "cell_type": "code",
   "execution_count": 46,
   "metadata": {},
   "outputs": [
    {
     "data": {
      "text/plain": [
       "334"
      ]
     },
     "execution_count": 46,
     "metadata": {},
     "output_type": "execute_result"
    }
   ],
   "source": [
    "#Get White count for aggravated assault crime in Cle\n",
    "white_count_agg=response[\"data\"][73][\"value\"]\n",
    "white_count_agg"
   ]
  },
  {
   "cell_type": "code",
   "execution_count": 47,
   "metadata": {},
   "outputs": [
    {
     "data": {
      "text/plain": [
       "177"
      ]
     },
     "execution_count": 47,
     "metadata": {},
     "output_type": "execute_result"
    }
   ],
   "source": [
    "#Get Unknown count for aggravated assault crime in Cle\n",
    "unknown_count_agg=response[\"data\"][88][\"value\"]\n",
    "unknown_count_agg"
   ]
  },
  {
   "cell_type": "code",
   "execution_count": 48,
   "metadata": {},
   "outputs": [],
   "source": [
    "url_arson=f\"https://api.usa.gov/crime/fbi/sapi/api/nibrs/arson/offender/agencies/OHCLP0000/race?api_key={fbi_key}\"\n",
    "response=requests.get(url_arson).json()"
   ]
  },
  {
   "cell_type": "code",
   "execution_count": 49,
   "metadata": {},
   "outputs": [],
   "source": [
    "#Get Asian count for arson crime in Cle \n",
    "asian.append(response[\"data\"][13][\"value\"])\n"
   ]
  },
  {
   "cell_type": "code",
   "execution_count": 50,
   "metadata": {},
   "outputs": [
    {
     "data": {
      "text/plain": [
       "42"
      ]
     },
     "execution_count": 50,
     "metadata": {},
     "output_type": "execute_result"
    }
   ],
   "source": [
    "#Get Black or African American count for arson crime in Cle\n",
    "black_count_arson=response[\"data\"][43][\"value\"]\n",
    "black_count_arson"
   ]
  },
  {
   "cell_type": "code",
   "execution_count": 51,
   "metadata": {},
   "outputs": [
    {
     "data": {
      "text/plain": [
       "0"
      ]
     },
     "execution_count": 51,
     "metadata": {},
     "output_type": "execute_result"
    }
   ],
   "source": [
    "#Get American Indian count for arson crime in Cle\n",
    "ind_count_arson=response[\"data\"][58][\"value\"]\n",
    "ind_count_arson"
   ]
  },
  {
   "cell_type": "code",
   "execution_count": 52,
   "metadata": {},
   "outputs": [
    {
     "data": {
      "text/plain": [
       "26"
      ]
     },
     "execution_count": 52,
     "metadata": {},
     "output_type": "execute_result"
    }
   ],
   "source": [
    "#Get White count for arson crime in Cle\n",
    "white_count_arson=response[\"data\"][73][\"value\"]\n",
    "white_count_arson"
   ]
  },
  {
   "cell_type": "code",
   "execution_count": 53,
   "metadata": {},
   "outputs": [
    {
     "data": {
      "text/plain": [
       "12"
      ]
     },
     "execution_count": 53,
     "metadata": {},
     "output_type": "execute_result"
    }
   ],
   "source": [
    "#Get Unknown count for arson crime in Cle\n",
    "unknown_count_arson=response[\"data\"][88][\"value\"]\n",
    "unknown_count_arson"
   ]
  },
  {
   "cell_type": "code",
   "execution_count": 54,
   "metadata": {},
   "outputs": [],
   "source": [
    "url_car=f\"https://api.usa.gov/crime/fbi/sapi/api/nibrs/motor-vehicle-theft/offender/agencies/OHCLP0000/race?api_key={fbi_key}\"\n",
    "response=requests.get(url_car).json()"
   ]
  },
  {
   "cell_type": "code",
   "execution_count": 55,
   "metadata": {},
   "outputs": [],
   "source": [
    "#Get Asian count for motor-vehicle-theft crime in Cle \n",
    "asian.append(response[\"data\"][13][\"value\"])\n"
   ]
  },
  {
   "cell_type": "code",
   "execution_count": 56,
   "metadata": {},
   "outputs": [
    {
     "data": {
      "text/plain": [
       "617"
      ]
     },
     "execution_count": 56,
     "metadata": {},
     "output_type": "execute_result"
    }
   ],
   "source": [
    "#Get Black or African American count for motor-vehicle-theft crime in Cle\n",
    "black_count_car=response[\"data\"][43][\"value\"]\n",
    "black_count_car"
   ]
  },
  {
   "cell_type": "code",
   "execution_count": 57,
   "metadata": {},
   "outputs": [
    {
     "data": {
      "text/plain": [
       "1"
      ]
     },
     "execution_count": 57,
     "metadata": {},
     "output_type": "execute_result"
    }
   ],
   "source": [
    "#Get American Indian count for motor-vehicle-theft crime in Cle\n",
    "ind_count_car=response[\"data\"][58][\"value\"]\n",
    "ind_count_car"
   ]
  },
  {
   "cell_type": "code",
   "execution_count": 58,
   "metadata": {},
   "outputs": [
    {
     "data": {
      "text/plain": [
       "164"
      ]
     },
     "execution_count": 58,
     "metadata": {},
     "output_type": "execute_result"
    }
   ],
   "source": [
    "#Get White count for robbery motor-vehicle-theft in Cle\n",
    "white_count_car=response[\"data\"][73][\"value\"]\n",
    "white_count_car"
   ]
  },
  {
   "cell_type": "code",
   "execution_count": 59,
   "metadata": {},
   "outputs": [
    {
     "data": {
      "text/plain": [
       "133"
      ]
     },
     "execution_count": 59,
     "metadata": {},
     "output_type": "execute_result"
    }
   ],
   "source": [
    "#Get Unknown count for robbery motor-vehicle-theft in Cle\n",
    "unknown_count_car=response[\"data\"][88][\"value\"]\n",
    "unknown_count_car"
   ]
  },
  {
   "cell_type": "code",
   "execution_count": 60,
   "metadata": {},
   "outputs": [],
   "source": [
    "url_burglary=f\"https://api.usa.gov/crime/fbi/sapi/api/nibrs/burglary/offender/agencies/OHCLP0000/race?api_key={fbi_key}\"\n",
    "response=requests.get(url_burglary).json()"
   ]
  },
  {
   "cell_type": "code",
   "execution_count": 61,
   "metadata": {},
   "outputs": [],
   "source": [
    "#Get Asian count for burglary crime in Cle \n",
    "asian.append(response[\"data\"][13][\"value\"])"
   ]
  },
  {
   "cell_type": "code",
   "execution_count": 62,
   "metadata": {},
   "outputs": [
    {
     "data": {
      "text/plain": [
       "1356"
      ]
     },
     "execution_count": 62,
     "metadata": {},
     "output_type": "execute_result"
    }
   ],
   "source": [
    "#Get Black or African American count for burglary crime in Cle\n",
    "black_count_burglary=response[\"data\"][43][\"value\"]\n",
    "black_count_burglary"
   ]
  },
  {
   "cell_type": "code",
   "execution_count": 63,
   "metadata": {},
   "outputs": [
    {
     "data": {
      "text/plain": [
       "0"
      ]
     },
     "execution_count": 63,
     "metadata": {},
     "output_type": "execute_result"
    }
   ],
   "source": [
    "#Get American Indian count for burglary crime in Cle\n",
    "ind_count_burglary=response[\"data\"][58][\"value\"]\n",
    "ind_count_burglary"
   ]
  },
  {
   "cell_type": "code",
   "execution_count": 64,
   "metadata": {},
   "outputs": [
    {
     "data": {
      "text/plain": [
       "463"
      ]
     },
     "execution_count": 64,
     "metadata": {},
     "output_type": "execute_result"
    }
   ],
   "source": [
    "#Get White count for burglary crime in Cle\n",
    "white_count_burglary=response[\"data\"][73][\"value\"]\n",
    "white_count_burglary"
   ]
  },
  {
   "cell_type": "code",
   "execution_count": 65,
   "metadata": {},
   "outputs": [
    {
     "data": {
      "text/plain": [
       "1015"
      ]
     },
     "execution_count": 65,
     "metadata": {},
     "output_type": "execute_result"
    }
   ],
   "source": [
    "#Get Unknown count for burglary crime in Cle\n",
    "unknown_count_burglary=response[\"data\"][88][\"value\"]\n",
    "unknown_count_burglary"
   ]
  },
  {
   "cell_type": "code",
   "execution_count": 66,
   "metadata": {},
   "outputs": [],
   "source": [
    "url_larceny=f\"https://api.usa.gov/crime/fbi/sapi/api/nibrs/larceny/offender/agencies/OHCLP0000/race?api_key={fbi_key}\"\n",
    "response=requests.get(url_larceny).json()"
   ]
  },
  {
   "cell_type": "code",
   "execution_count": 67,
   "metadata": {},
   "outputs": [],
   "source": [
    "#Get Asian count for larceny crime in Cle \n",
    "asian.append(response[\"data\"][13][\"value\"])"
   ]
  },
  {
   "cell_type": "code",
   "execution_count": 68,
   "metadata": {},
   "outputs": [
    {
     "data": {
      "text/plain": [
       "2921"
      ]
     },
     "execution_count": 68,
     "metadata": {},
     "output_type": "execute_result"
    }
   ],
   "source": [
    "#Get Black or African American count for larceny crime in Cle\n",
    "black_count_larceny=response[\"data\"][43][\"value\"]\n",
    "black_count_larceny"
   ]
  },
  {
   "cell_type": "code",
   "execution_count": 69,
   "metadata": {},
   "outputs": [
    {
     "data": {
      "text/plain": [
       "4"
      ]
     },
     "execution_count": 69,
     "metadata": {},
     "output_type": "execute_result"
    }
   ],
   "source": [
    "#Get American Indian count for larceny crime in Cle\n",
    "ind_count_larceny=response[\"data\"][58][\"value\"]\n",
    "ind_count_larceny"
   ]
  },
  {
   "cell_type": "code",
   "execution_count": 70,
   "metadata": {},
   "outputs": [
    {
     "data": {
      "text/plain": [
       "1196"
      ]
     },
     "execution_count": 70,
     "metadata": {},
     "output_type": "execute_result"
    }
   ],
   "source": [
    "#Get White count for larceny crime in Cle\n",
    "white_count_larceny=response[\"data\"][73][\"value\"]\n",
    "white_count_larceny"
   ]
  },
  {
   "cell_type": "code",
   "execution_count": 71,
   "metadata": {},
   "outputs": [
    {
     "data": {
      "text/plain": [
       "1664"
      ]
     },
     "execution_count": 71,
     "metadata": {},
     "output_type": "execute_result"
    }
   ],
   "source": [
    "#Get Unknown count for larceny crime in Cle\n",
    "unknown_count_larceny=response[\"data\"][88][\"value\"]\n",
    "unknown_count_larceny"
   ]
  },
  {
   "cell_type": "code",
   "execution_count": 72,
   "metadata": {},
   "outputs": [
    {
     "data": {
      "text/plain": [
       "['ORI',\n",
       " 'AGENCY NAME',\n",
       " 'POPULATION',\n",
       " 'VIOLENT CRIME',\n",
       " 'PROPERTY CRIME',\n",
       " 'MURDER',\n",
       " 'RAPE',\n",
       " 'ROBBERY',\n",
       " 'AGGRAVATED ASSAULT',\n",
       " 'BURGLARY',\n",
       " 'LARCENY',\n",
       " 'MTR VEHICLE THEFT',\n",
       " 'ARSON',\n",
       " 'TOTALS']"
      ]
     },
     "execution_count": 72,
     "metadata": {},
     "output_type": "execute_result"
    }
   ],
   "source": [
    "crimes=list(cuy_data.columns)\n",
    "crimes"
   ]
  },
  {
   "cell_type": "code",
   "execution_count": 73,
   "metadata": {},
   "outputs": [
    {
     "name": "stdout",
     "output_type": "stream",
     "text": [
      "Asian counts are [16, 16, 0, 2, 6, 8, 0, 1, 5, 10].\n"
     ]
    }
   ],
   "source": [
    "print(f\"Asian counts are {asian}.\")\n"
   ]
  },
  {
   "cell_type": "code",
   "execution_count": null,
   "metadata": {},
   "outputs": [],
   "source": []
  }
 ],
 "metadata": {
  "kernelspec": {
   "display_name": "Python 3",
   "language": "python",
   "name": "python3"
  },
  "language_info": {
   "codemirror_mode": {
    "name": "ipython",
    "version": 3
   },
   "file_extension": ".py",
   "mimetype": "text/x-python",
   "name": "python",
   "nbconvert_exporter": "python",
   "pygments_lexer": "ipython3",
   "version": "3.7.6"
  }
 },
 "nbformat": 4,
 "nbformat_minor": 2
}
