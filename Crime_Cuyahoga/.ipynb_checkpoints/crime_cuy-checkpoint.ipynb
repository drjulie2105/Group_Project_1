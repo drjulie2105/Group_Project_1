{
 "cells": [
  {
   "cell_type": "markdown",
   "metadata": {},
   "source": [
    "# Analysis of Crime Data in Cuyahoga County"
   ]
  },
  {
   "cell_type": "code",
   "execution_count": 4,
   "metadata": {},
   "outputs": [],
   "source": [
    "import requests\n",
    "import json\n",
    "import matplotlib.pyplot as plt\n",
    "from scipy import stats\n",
    "import pandas as pd\n",
    "from citipy import citipy\n",
    "import numpy as np\n",
    "from scipy.stats import linregress\n",
    "\n",
    "from api_keys import weather_api_key\n",
    "from api_keys import fbi_key\n"
   ]
  },
  {
   "cell_type": "code",
   "execution_count": 2,
   "metadata": {},
   "outputs": [],
   "source": [
    "#URLs\n",
    "##API base URL=\"https://api.usa.gov/crime/fbi/sapi\"\n",
    "\n",
    "##Requests Format: https://api.usa.gov/crime/fbi/sapi/{desired_endpiont}?api_key=<API_KEY>\n",
    "\n",
    "##See more information about API endpoints at https://crime-data-explorer-master.fr.cloud.gov/api \n",
    "\n",
    "#Example Requests:\n",
    "#query_url=f\"https://api.usa.gov/crime/fbi/sapi/api/participation/national?api_key={fbi_key}\"\n",
    "##https://api.usa.gov/crime/fbi/sapi/api/agencies?api_key=iiHnOKfno2Mgkt5AynpvPpUQTEyxE77jo1RU8PIv"
   ]
  },
  {
   "cell_type": "code",
   "execution_count": null,
   "metadata": {},
   "outputs": [],
   "source": [
    "#Make a loop to get the crime data for each agency in Cuyahoga county\n",
    "\n",
    "##Agency level NIBRS Offender Demographic Endpoint\n",
    "#https://api.usa.gov/crime/fbi/sapi/api/nibrs/{offense}/offender/agencies/{ori}/{variable}\n",
    "    #CUYAHOGA county ORI (FIPS=035 UCR=018)\n",
    "    #ORI numbers reference: https://www.icpsr.umich.edu/files/NACJD/ORIs/39oris.html#39_CUYAHOGA_(FIPS=035_UCR=018)\n",
    "\n",
    "#Agency level NIBRS Offense Count Endpoint\n",
    "#https://api.usa.gov/crime/fbi/sapi/api/nibrs/{offense}/offense/agencies/{ori}/{variable} \n",
    "\n",
    "#Agency level SRS Crime Data Endpoint Year\n",
    "#https://api.usa.gov/crime/fbi/sapi//api/summarized/agencies/{ori}/offenses/{since}/{until} \n",
    "\n",
    "#Agency level SRS Crime Data Endpoint by Offense\n",
    "#https://api.usa.gov/crime/fbi/sapi/api/summarized/agencies/{ori}/{offense}/{since}/{until}\n",
    "\n",
    "\n",
    "#Data summary by population in US\n",
    "#https://api.usa.gov/crime/fbi/sapi/api/summarized/national/population/{offense}/{since}/{until} \n"
   ]
  },
  {
   "cell_type": "code",
   "execution_count": 7,
   "metadata": {},
   "outputs": [],
   "source": [
    "#Obtain data"
   ]
  },
  {
   "cell_type": "code",
   "execution_count": null,
   "metadata": {},
   "outputs": [],
   "source": [
    "#Json output for each agency data using endpoints above"
   ]
  },
  {
   "cell_type": "code",
   "execution_count": null,
   "metadata": {},
   "outputs": [],
   "source": [
    "#Make a dataframe for each output"
   ]
  },
  {
   "cell_type": "code",
   "execution_count": null,
   "metadata": {},
   "outputs": [],
   "source": [
    "#Clean the data"
   ]
  },
  {
   "cell_type": "code",
   "execution_count": null,
   "metadata": {},
   "outputs": [],
   "source": []
  },
  {
   "cell_type": "code",
   "execution_count": null,
   "metadata": {},
   "outputs": [],
   "source": [
    "#POSSIBLE ENDPOINT REQUEST URLs to use\n",
    "\n",
    "#State level NIBRS Offense Count Endpoint\n",
    "#https://api.usa.gov/crime/fbi/sapi/api/nibrs/{offense}/offense/states/{stateAbbr}/{variable}\n",
    "    \n",
    "#State level NIBRS Offender Demographic Count Endpoint\n",
    "#https://api.usa.gov/crime/fbi/sapi/api/nibrs/{offense}/offender/states/{stateAbbr}/{variable} \n",
    "    \n",
    "#State level UCR Estimated Crime Data Endpoint\n",
    "#https://api.usa.gov/crime/fbi/sapi/api/summarized/estimates/states/{stateAbbr}/{since}/{until}\n",
    "\n",
    "#Agency level UCR Participation Endpoint\n",
    "#https://api.usa.gov/crime/fbi/sapi/api/participation/agencies/{ori} \n",
    "\n",
    "#Agency level NIBRS Offender Demographic Endpoint\n",
    "#https://api.usa.gov/crime/fbi/sapi/api/nibrs/{offense}/offender/agencies/{ori}/{variable}\n",
    "    #CUYAHOGA county ORI (FIPS=035 UCR=018)\n",
    "    #ORI numbers reference: https://www.icpsr.umich.edu/files/NACJD/ORIs/39oris.html#39_CUYAHOGA_(FIPS=035_UCR=018)\n",
    "\n",
    "#Agency level NIBRS Offense Count Endpoint\n",
    "#https://api.usa.gov/crime/fbi/sapi/api/nibrs/{offense}/offense/agencies/{ori}/{variable} \n",
    "\n",
    "\n",
    "#Agency level SRS Crime Data Endpoint Year\n",
    "#https://api.usa.gov/crime/fbi/sapi//api/summarized/agencies/{ori}/offenses/{since}/{until} \n",
    "\n",
    "#Agency level SRS Crime Data Endpoint by Offense\n",
    "#https://api.usa.gov/crime/fbi/sapi/api/summarized/agencies/{ori}/{offense}/{since}/{until}\n",
    "\n",
    "\n"
   ]
  },
  {
   "cell_type": "code",
   "execution_count": 10,
   "metadata": {},
   "outputs": [
    {
     "name": "stdout",
     "output_type": "stream",
     "text": [
      "{\n",
      "    \"pagination\": {\n",
      "        \"count\": 1,\n",
      "        \"page\": 0,\n",
      "        \"pages\": 1,\n",
      "        \"per_page\": 0\n",
      "    },\n",
      "    \"results\": [\n",
      "        {\n",
      "            \"aggravated_assault\": 17674,\n",
      "            \"arson\": 1325,\n",
      "            \"burglary\": 48186,\n",
      "            \"homicide\": 564,\n",
      "            \"larceny\": 186401,\n",
      "            \"motor_vehicle_theft\": 19909,\n",
      "            \"population\": 11689442,\n",
      "            \"property_crime\": 254496,\n",
      "            \"rape_legacy\": null,\n",
      "            \"rape_revised\": 5300,\n",
      "            \"robbery\": 9185,\n",
      "            \"state_abbr\": \"OH\",\n",
      "            \"state_id\": 39,\n",
      "            \"violent_crime\": 32723,\n",
      "            \"year\": 2018\n",
      "        }\n",
      "    ]\n",
      "}\n"
     ]
    }
   ],
   "source": [
    "#State UCR Crime Data for 2018\n",
    "year_state=f\"https://api.usa.gov/crime/fbi/sapi/api/summarized/estimates/states/OH/2018/2018?api_key={fbi_key}\"\n",
    "response=requests.get(year_state).json()\n",
    "print(json.dumps(response, indent=4, sort_keys=True))"
   ]
  },
  {
   "cell_type": "code",
   "execution_count": null,
   "metadata": {},
   "outputs": [],
   "source": [
    "#"
   ]
  },
  {
   "cell_type": "code",
   "execution_count": null,
   "metadata": {},
   "outputs": [],
   "source": [
    "#"
   ]
  },
  {
   "cell_type": "code",
   "execution_count": null,
   "metadata": {},
   "outputs": [],
   "source": [
    "#"
   ]
  },
  {
   "cell_type": "code",
   "execution_count": null,
   "metadata": {},
   "outputs": [],
   "source": [
    "#"
   ]
  },
  {
   "cell_type": "code",
   "execution_count": null,
   "metadata": {},
   "outputs": [],
   "source": [
    "#"
   ]
  },
  {
   "cell_type": "code",
   "execution_count": null,
   "metadata": {},
   "outputs": [],
   "source": [
    "#"
   ]
  },
  {
   "cell_type": "code",
   "execution_count": null,
   "metadata": {},
   "outputs": [],
   "source": [
    "#"
   ]
  }
 ],
 "metadata": {
  "kernelspec": {
   "display_name": "Python 3",
   "language": "python",
   "name": "python3"
  },
  "language_info": {
   "codemirror_mode": {
    "name": "ipython",
    "version": 3
   },
   "file_extension": ".py",
   "mimetype": "text/x-python",
   "name": "python",
   "nbconvert_exporter": "python",
   "pygments_lexer": "ipython3",
   "version": "3.7.6"
  }
 },
 "nbformat": 4,
 "nbformat_minor": 2
}
