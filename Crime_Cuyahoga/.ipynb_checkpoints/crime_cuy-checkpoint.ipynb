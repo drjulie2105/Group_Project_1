{
 "cells": [
  {
   "cell_type": "markdown",
   "metadata": {},
   "source": [
    "# Analysis of Crime Data in Cuyahoga County"
   ]
  },
  {
   "cell_type": "code",
   "execution_count": 10,
   "metadata": {},
   "outputs": [],
   "source": [
    "import requests\n",
    "import json\n",
    "import matplotlib.pyplot as plt\n",
    "from scipy import stats\n",
    "import pandas as pd\n",
    "from citipy import citipy\n",
    "import numpy as np\n",
    "from scipy.stats import linregress\n",
    "\n",
    "from api_keys import weather_api_key\n",
    "from api_keys import fbi_key\n",
    "from api_keys import crime_key\n"
   ]
  },
  {
   "cell_type": "code",
   "execution_count": 13,
   "metadata": {},
   "outputs": [
    {
     "name": "stdout",
     "output_type": "stream",
     "text": [
      "{\n",
      "    \"message\": \"Forbidden\"\n",
      "}\n"
     ]
    }
   ],
   "source": [
    "url = f\"https://api.crimeometer.com/v1/incidents/raw-data?lat=41.49932&lon=-81.6943605&distance=50mi&datetime_ini=2018-01-01T12:00:00.000Z&datetime_end=2018-03-21T11:59:59.000Z&page=1\"\n",
    "response=requests.get(url).json()\n",
    "print(json.dumps(response, indent=4, sort_keys=True))"
   ]
  },
  {
   "cell_type": "code",
   "execution_count": 9,
   "metadata": {},
   "outputs": [
    {
     "name": "stdout",
     "output_type": "stream",
     "text": [
      "{\n",
      "    \"message\": \"Forbidden\"\n",
      "}\n"
     ]
    }
   ],
   "source": [
    "url2=f\"https://api.crimeometer.com/v1/incidents/raw-data?lat=41.49932&lon=-81.6943605&datetime_ini=2018-1-1T12:00:00.000Z&datetime_end=2018-3-21T11:59:59.000Z&distance=50mi\"\n",
    "response=requests.get(url2).json()\n",
    "print(json.dumps(response, indent=4, sort_keys=True))"
   ]
  },
  {
   "cell_type": "code",
   "execution_count": 17,
   "metadata": {},
   "outputs": [
    {
     "data": {
      "text/html": [
       "<div>\n",
       "<style scoped>\n",
       "    .dataframe tbody tr th:only-of-type {\n",
       "        vertical-align: middle;\n",
       "    }\n",
       "\n",
       "    .dataframe tbody tr th {\n",
       "        vertical-align: top;\n",
       "    }\n",
       "\n",
       "    .dataframe thead th {\n",
       "        text-align: right;\n",
       "    }\n",
       "</style>\n",
       "<table border=\"1\" class=\"dataframe\">\n",
       "  <thead>\n",
       "    <tr style=\"text-align: right;\">\n",
       "      <th></th>\n",
       "      <th>ORI</th>\n",
       "      <th>AGENCY NAME</th>\n",
       "      <th>POPULATION</th>\n",
       "      <th>VIOLENT CRIME</th>\n",
       "      <th>PROPERTY CRIME</th>\n",
       "      <th>MURDER</th>\n",
       "      <th>RAPE</th>\n",
       "      <th>ROBBERY</th>\n",
       "      <th>AGGRAVATED ASSAULT</th>\n",
       "      <th>BURGLARY</th>\n",
       "      <th>LARCENY</th>\n",
       "      <th>MTR VEHICLE THEFT</th>\n",
       "      <th>ARSON</th>\n",
       "    </tr>\n",
       "  </thead>\n",
       "  <tbody>\n",
       "    <tr>\n",
       "      <th>0</th>\n",
       "      <td>OH02538</td>\n",
       "      <td>OHIO DEPT OF NATURAL RESOURCES</td>\n",
       "      <td>NaN</td>\n",
       "      <td>NaN</td>\n",
       "      <td>NaN</td>\n",
       "      <td>NaN</td>\n",
       "      <td>NaN</td>\n",
       "      <td>NaN</td>\n",
       "      <td>NaN</td>\n",
       "      <td>NaN</td>\n",
       "      <td>NaN</td>\n",
       "      <td>NaN</td>\n",
       "      <td>NaN</td>\n",
       "    </tr>\n",
       "    <tr>\n",
       "      <th>1</th>\n",
       "      <td>OHOHP00</td>\n",
       "      <td>OHIO STATE HGHWAY PATROL</td>\n",
       "      <td>NaN</td>\n",
       "      <td>280</td>\n",
       "      <td>209</td>\n",
       "      <td>3.0</td>\n",
       "      <td>42</td>\n",
       "      <td>6</td>\n",
       "      <td>229</td>\n",
       "      <td>3</td>\n",
       "      <td>157</td>\n",
       "      <td>49</td>\n",
       "      <td>4</td>\n",
       "    </tr>\n",
       "    <tr>\n",
       "      <th>2</th>\n",
       "      <td>NaN</td>\n",
       "      <td>TOTAL</td>\n",
       "      <td>NaN</td>\n",
       "      <td>280</td>\n",
       "      <td>209</td>\n",
       "      <td>3.0</td>\n",
       "      <td>42</td>\n",
       "      <td>6</td>\n",
       "      <td>229</td>\n",
       "      <td>3</td>\n",
       "      <td>157</td>\n",
       "      <td>49</td>\n",
       "      <td>4</td>\n",
       "    </tr>\n",
       "    <tr>\n",
       "      <th>3</th>\n",
       "      <td>NaN</td>\n",
       "      <td>NaN</td>\n",
       "      <td>NaN</td>\n",
       "      <td>NaN</td>\n",
       "      <td>NaN</td>\n",
       "      <td>NaN</td>\n",
       "      <td>NaN</td>\n",
       "      <td>NaN</td>\n",
       "      <td>NaN</td>\n",
       "      <td>NaN</td>\n",
       "      <td>NaN</td>\n",
       "      <td>NaN</td>\n",
       "      <td>NaN</td>\n",
       "    </tr>\n",
       "    <tr>\n",
       "      <th>4</th>\n",
       "      <td>OH00102</td>\n",
       "      <td>PEEBLES</td>\n",
       "      <td>1,746</td>\n",
       "      <td>3</td>\n",
       "      <td>3</td>\n",
       "      <td>NaN</td>\n",
       "      <td>NaN</td>\n",
       "      <td>NaN</td>\n",
       "      <td>3</td>\n",
       "      <td>1</td>\n",
       "      <td>1</td>\n",
       "      <td>1</td>\n",
       "      <td>NaN</td>\n",
       "    </tr>\n",
       "  </tbody>\n",
       "</table>\n",
       "</div>"
      ],
      "text/plain": [
       "       ORI                     AGENCY NAME POPULATION VIOLENT CRIME  \\\n",
       "0  OH02538  OHIO DEPT OF NATURAL RESOURCES        NaN           NaN   \n",
       "1  OHOHP00        OHIO STATE HGHWAY PATROL        NaN           280   \n",
       "2      NaN                           TOTAL        NaN           280   \n",
       "3      NaN                             NaN        NaN           NaN   \n",
       "4  OH00102                         PEEBLES      1,746             3   \n",
       "\n",
       "  PROPERTY CRIME  MURDER RAPE ROBBERY AGGRAVATED ASSAULT BURGLARY LARCENY  \\\n",
       "0            NaN     NaN  NaN     NaN                NaN      NaN     NaN   \n",
       "1            209     3.0   42       6                229        3     157   \n",
       "2            209     3.0   42       6                229        3     157   \n",
       "3            NaN     NaN  NaN     NaN                NaN      NaN     NaN   \n",
       "4              3     NaN  NaN     NaN                  3        1       1   \n",
       "\n",
       "  MTR VEHICLE THEFT ARSON  \n",
       "0               NaN   NaN  \n",
       "1                49     4  \n",
       "2                49     4  \n",
       "3               NaN   NaN  \n",
       "4                 1   NaN  "
      ]
     },
     "execution_count": 17,
     "metadata": {},
     "output_type": "execute_result"
    }
   ],
   "source": [
    "crime_2017 = pd.read_csv(\"ocjs_crimebycounty2017.csv\")\n",
    "crime_2017.head()"
   ]
  },
  {
   "cell_type": "code",
   "execution_count": null,
   "metadata": {},
   "outputs": [],
   "source": []
  },
  {
   "cell_type": "code",
   "execution_count": 2,
   "metadata": {},
   "outputs": [],
   "source": []
  },
  {
   "cell_type": "code",
   "execution_count": null,
   "metadata": {},
   "outputs": [],
   "source": []
  },
  {
   "cell_type": "code",
   "execution_count": 7,
   "metadata": {},
   "outputs": [],
   "source": [
    "#Obtain data"
   ]
  },
  {
   "cell_type": "code",
   "execution_count": null,
   "metadata": {},
   "outputs": [],
   "source": [
    "#Json output for each agency data using endpoints above"
   ]
  },
  {
   "cell_type": "code",
   "execution_count": null,
   "metadata": {},
   "outputs": [],
   "source": [
    "#Make a dataframe for each output"
   ]
  },
  {
   "cell_type": "code",
   "execution_count": null,
   "metadata": {},
   "outputs": [],
   "source": [
    "#Clean the data"
   ]
  },
  {
   "cell_type": "code",
   "execution_count": null,
   "metadata": {},
   "outputs": [],
   "source": []
  },
  {
   "cell_type": "code",
   "execution_count": null,
   "metadata": {},
   "outputs": [],
   "source": []
  },
  {
   "cell_type": "code",
   "execution_count": 10,
   "metadata": {},
   "outputs": [
    {
     "name": "stdout",
     "output_type": "stream",
     "text": [
      "{\n",
      "    \"pagination\": {\n",
      "        \"count\": 1,\n",
      "        \"page\": 0,\n",
      "        \"pages\": 1,\n",
      "        \"per_page\": 0\n",
      "    },\n",
      "    \"results\": [\n",
      "        {\n",
      "            \"aggravated_assault\": 17674,\n",
      "            \"arson\": 1325,\n",
      "            \"burglary\": 48186,\n",
      "            \"homicide\": 564,\n",
      "            \"larceny\": 186401,\n",
      "            \"motor_vehicle_theft\": 19909,\n",
      "            \"population\": 11689442,\n",
      "            \"property_crime\": 254496,\n",
      "            \"rape_legacy\": null,\n",
      "            \"rape_revised\": 5300,\n",
      "            \"robbery\": 9185,\n",
      "            \"state_abbr\": \"OH\",\n",
      "            \"state_id\": 39,\n",
      "            \"violent_crime\": 32723,\n",
      "            \"year\": 2018\n",
      "        }\n",
      "    ]\n",
      "}\n"
     ]
    }
   ],
   "source": [
    "#State UCR Crime Data for 2018\n",
    "year_state=f\"https://api.usa.gov/crime/fbi/sapi/api/summarized/estimates/states/OH/2018/2018?api_key={fbi_key}\"\n",
    "response=requests.get(year_state).json()\n",
    "print(json.dumps(response, indent=4, sort_keys=True))"
   ]
  },
  {
   "cell_type": "code",
   "execution_count": null,
   "metadata": {},
   "outputs": [],
   "source": [
    "#"
   ]
  },
  {
   "cell_type": "code",
   "execution_count": null,
   "metadata": {},
   "outputs": [],
   "source": [
    "#"
   ]
  },
  {
   "cell_type": "code",
   "execution_count": null,
   "metadata": {},
   "outputs": [],
   "source": [
    "#"
   ]
  },
  {
   "cell_type": "code",
   "execution_count": null,
   "metadata": {},
   "outputs": [],
   "source": [
    "#"
   ]
  },
  {
   "cell_type": "code",
   "execution_count": null,
   "metadata": {},
   "outputs": [],
   "source": [
    "#"
   ]
  },
  {
   "cell_type": "code",
   "execution_count": null,
   "metadata": {},
   "outputs": [],
   "source": [
    "#"
   ]
  },
  {
   "cell_type": "code",
   "execution_count": null,
   "metadata": {},
   "outputs": [],
   "source": [
    "#"
   ]
  }
 ],
 "metadata": {
  "kernelspec": {
   "display_name": "Python 3",
   "language": "python",
   "name": "python3"
  },
  "language_info": {
   "codemirror_mode": {
    "name": "ipython",
    "version": 3
   },
   "file_extension": ".py",
   "mimetype": "text/x-python",
   "name": "python",
   "nbconvert_exporter": "python",
   "pygments_lexer": "ipython3",
   "version": "3.7.6"
  }
 },
 "nbformat": 4,
 "nbformat_minor": 2
}
