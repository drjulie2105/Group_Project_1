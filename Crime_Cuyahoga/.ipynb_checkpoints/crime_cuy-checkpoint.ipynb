{
 "cells": [
  {
   "cell_type": "markdown",
   "metadata": {},
   "source": [
    "# Analysis of Crime Data in Cuyahoga County"
   ]
  },
  {
   "cell_type": "code",
   "execution_count": 1,
   "metadata": {},
   "outputs": [],
   "source": [
    "import requests\n",
    "import json\n",
    "import matplotlib.pyplot as plt\n",
    "from scipy import stats\n",
    "import pandas as pd\n",
    "from citipy import citipy\n",
    "import numpy as np\n",
    "from scipy.stats import linregress\n",
    "import gmaps\n",
    "\n",
    "from api_keys import weather_api_key\n",
    "from api_keys import fbi_key\n",
    "from api_keys import g_key\n"
   ]
  },
  {
   "cell_type": "code",
   "execution_count": 2,
   "metadata": {},
   "outputs": [
    {
     "data": {
      "text/html": [
       "<div>\n",
       "<style scoped>\n",
       "    .dataframe tbody tr th:only-of-type {\n",
       "        vertical-align: middle;\n",
       "    }\n",
       "\n",
       "    .dataframe tbody tr th {\n",
       "        vertical-align: top;\n",
       "    }\n",
       "\n",
       "    .dataframe thead th {\n",
       "        text-align: right;\n",
       "    }\n",
       "</style>\n",
       "<table border=\"1\" class=\"dataframe\">\n",
       "  <thead>\n",
       "    <tr style=\"text-align: right;\">\n",
       "      <th></th>\n",
       "      <th>ORI</th>\n",
       "      <th>AGENCY NAME</th>\n",
       "      <th>POPULATION</th>\n",
       "      <th>VIOLENT CRIME</th>\n",
       "      <th>PROPERTY CRIME</th>\n",
       "      <th>MURDER</th>\n",
       "      <th>RAPE</th>\n",
       "      <th>ROBBERY</th>\n",
       "      <th>AGGRAVATED ASSAULT</th>\n",
       "      <th>BURGLARY</th>\n",
       "      <th>LARCENY</th>\n",
       "      <th>MTR VEHICLE THEFT</th>\n",
       "      <th>ARSON</th>\n",
       "    </tr>\n",
       "  </thead>\n",
       "  <tbody>\n",
       "    <tr>\n",
       "      <th>0</th>\n",
       "      <td>OH02538</td>\n",
       "      <td>OHIO DEPT OF NATURAL RESOURCES</td>\n",
       "      <td>NaN</td>\n",
       "      <td>NaN</td>\n",
       "      <td>NaN</td>\n",
       "      <td>NaN</td>\n",
       "      <td>NaN</td>\n",
       "      <td>NaN</td>\n",
       "      <td>NaN</td>\n",
       "      <td>NaN</td>\n",
       "      <td>NaN</td>\n",
       "      <td>NaN</td>\n",
       "      <td>NaN</td>\n",
       "    </tr>\n",
       "    <tr>\n",
       "      <th>1</th>\n",
       "      <td>OHOHP00</td>\n",
       "      <td>OHIO STATE HGHWAY PATROL</td>\n",
       "      <td>NaN</td>\n",
       "      <td>280</td>\n",
       "      <td>209</td>\n",
       "      <td>3.0</td>\n",
       "      <td>42</td>\n",
       "      <td>6</td>\n",
       "      <td>229</td>\n",
       "      <td>3</td>\n",
       "      <td>157</td>\n",
       "      <td>49</td>\n",
       "      <td>4</td>\n",
       "    </tr>\n",
       "    <tr>\n",
       "      <th>2</th>\n",
       "      <td>NaN</td>\n",
       "      <td>TOTAL</td>\n",
       "      <td>NaN</td>\n",
       "      <td>280</td>\n",
       "      <td>209</td>\n",
       "      <td>3.0</td>\n",
       "      <td>42</td>\n",
       "      <td>6</td>\n",
       "      <td>229</td>\n",
       "      <td>3</td>\n",
       "      <td>157</td>\n",
       "      <td>49</td>\n",
       "      <td>4</td>\n",
       "    </tr>\n",
       "    <tr>\n",
       "      <th>3</th>\n",
       "      <td>NaN</td>\n",
       "      <td>NaN</td>\n",
       "      <td>NaN</td>\n",
       "      <td>NaN</td>\n",
       "      <td>NaN</td>\n",
       "      <td>NaN</td>\n",
       "      <td>NaN</td>\n",
       "      <td>NaN</td>\n",
       "      <td>NaN</td>\n",
       "      <td>NaN</td>\n",
       "      <td>NaN</td>\n",
       "      <td>NaN</td>\n",
       "      <td>NaN</td>\n",
       "    </tr>\n",
       "    <tr>\n",
       "      <th>4</th>\n",
       "      <td>OH00102</td>\n",
       "      <td>PEEBLES</td>\n",
       "      <td>1,746</td>\n",
       "      <td>3</td>\n",
       "      <td>3</td>\n",
       "      <td>NaN</td>\n",
       "      <td>NaN</td>\n",
       "      <td>NaN</td>\n",
       "      <td>3</td>\n",
       "      <td>1</td>\n",
       "      <td>1</td>\n",
       "      <td>1</td>\n",
       "      <td>NaN</td>\n",
       "    </tr>\n",
       "  </tbody>\n",
       "</table>\n",
       "</div>"
      ],
      "text/plain": [
       "       ORI                     AGENCY NAME POPULATION VIOLENT CRIME  \\\n",
       "0  OH02538  OHIO DEPT OF NATURAL RESOURCES        NaN           NaN   \n",
       "1  OHOHP00        OHIO STATE HGHWAY PATROL        NaN           280   \n",
       "2      NaN                           TOTAL        NaN           280   \n",
       "3      NaN                             NaN        NaN           NaN   \n",
       "4  OH00102                         PEEBLES      1,746             3   \n",
       "\n",
       "  PROPERTY CRIME  MURDER RAPE ROBBERY AGGRAVATED ASSAULT BURGLARY LARCENY  \\\n",
       "0            NaN     NaN  NaN     NaN                NaN      NaN     NaN   \n",
       "1            209     3.0   42       6                229        3     157   \n",
       "2            209     3.0   42       6                229        3     157   \n",
       "3            NaN     NaN  NaN     NaN                NaN      NaN     NaN   \n",
       "4              3     NaN  NaN     NaN                  3        1       1   \n",
       "\n",
       "  MTR VEHICLE THEFT ARSON  \n",
       "0               NaN   NaN  \n",
       "1                49     4  \n",
       "2                49     4  \n",
       "3               NaN   NaN  \n",
       "4                 1   NaN  "
      ]
     },
     "execution_count": 2,
     "metadata": {},
     "output_type": "execute_result"
    }
   ],
   "source": [
    "crime_2017 = pd.read_csv(\"ocjs_crimebycounty2017.csv\")\n",
    "crime_2017.head()"
   ]
  },
  {
   "cell_type": "code",
   "execution_count": 3,
   "metadata": {},
   "outputs": [
    {
     "data": {
      "text/html": [
       "<div>\n",
       "<style scoped>\n",
       "    .dataframe tbody tr th:only-of-type {\n",
       "        vertical-align: middle;\n",
       "    }\n",
       "\n",
       "    .dataframe tbody tr th {\n",
       "        vertical-align: top;\n",
       "    }\n",
       "\n",
       "    .dataframe thead th {\n",
       "        text-align: right;\n",
       "    }\n",
       "</style>\n",
       "<table border=\"1\" class=\"dataframe\">\n",
       "  <thead>\n",
       "    <tr style=\"text-align: right;\">\n",
       "      <th></th>\n",
       "      <th>ORI</th>\n",
       "      <th>AGENCY NAME</th>\n",
       "      <th>POPULATION</th>\n",
       "      <th>VIOLENT CRIME</th>\n",
       "      <th>PROPERTY CRIME</th>\n",
       "      <th>MURDER</th>\n",
       "      <th>RAPE</th>\n",
       "      <th>ROBBERY</th>\n",
       "      <th>AGGRAVATED ASSAULT</th>\n",
       "      <th>BURGLARY</th>\n",
       "      <th>LARCENY</th>\n",
       "      <th>MTR VEHICLE THEFT</th>\n",
       "      <th>ARSON</th>\n",
       "    </tr>\n",
       "  </thead>\n",
       "  <tbody>\n",
       "    <tr>\n",
       "      <th>0</th>\n",
       "      <td>OHCLP00</td>\n",
       "      <td>CLEVELAND</td>\n",
       "      <td>385,351</td>\n",
       "      <td>5,999</td>\n",
       "      <td>18,944</td>\n",
       "      <td>107.0</td>\n",
       "      <td>497</td>\n",
       "      <td>2,697</td>\n",
       "      <td>2,698</td>\n",
       "      <td>5,853</td>\n",
       "      <td>9,696</td>\n",
       "      <td>3,395</td>\n",
       "      <td>253</td>\n",
       "    </tr>\n",
       "    <tr>\n",
       "      <th>1</th>\n",
       "      <td>OH018A1</td>\n",
       "      <td>NOTRE DAME COLLEGE</td>\n",
       "      <td>NaN</td>\n",
       "      <td>2</td>\n",
       "      <td>38</td>\n",
       "      <td>NaN</td>\n",
       "      <td>2</td>\n",
       "      <td>NaN</td>\n",
       "      <td>NaN</td>\n",
       "      <td>9</td>\n",
       "      <td>29</td>\n",
       "      <td>NaN</td>\n",
       "      <td>NaN</td>\n",
       "    </tr>\n",
       "    <tr>\n",
       "      <th>2</th>\n",
       "      <td>OH01801</td>\n",
       "      <td>BAY VILLAGE</td>\n",
       "      <td>15,327</td>\n",
       "      <td>2</td>\n",
       "      <td>73</td>\n",
       "      <td>NaN</td>\n",
       "      <td>1</td>\n",
       "      <td>NaN</td>\n",
       "      <td>1</td>\n",
       "      <td>11</td>\n",
       "      <td>61</td>\n",
       "      <td>1</td>\n",
       "      <td>NaN</td>\n",
       "    </tr>\n",
       "    <tr>\n",
       "      <th>3</th>\n",
       "      <td>OH01803</td>\n",
       "      <td>BEDFORD</td>\n",
       "      <td>12,641</td>\n",
       "      <td>25</td>\n",
       "      <td>228</td>\n",
       "      <td>1.0</td>\n",
       "      <td>1</td>\n",
       "      <td>16</td>\n",
       "      <td>7</td>\n",
       "      <td>50</td>\n",
       "      <td>146</td>\n",
       "      <td>32</td>\n",
       "      <td>NaN</td>\n",
       "    </tr>\n",
       "    <tr>\n",
       "      <th>4</th>\n",
       "      <td>OH01804</td>\n",
       "      <td>BEDFORD HEIGHTS</td>\n",
       "      <td>10,558</td>\n",
       "      <td>22</td>\n",
       "      <td>255</td>\n",
       "      <td>1.0</td>\n",
       "      <td>1</td>\n",
       "      <td>9</td>\n",
       "      <td>11</td>\n",
       "      <td>32</td>\n",
       "      <td>173</td>\n",
       "      <td>50</td>\n",
       "      <td>NaN</td>\n",
       "    </tr>\n",
       "  </tbody>\n",
       "</table>\n",
       "</div>"
      ],
      "text/plain": [
       "       ORI         AGENCY NAME POPULATION VIOLENT CRIME PROPERTY CRIME  \\\n",
       "0  OHCLP00           CLEVELAND    385,351         5,999         18,944   \n",
       "1  OH018A1  NOTRE DAME COLLEGE        NaN             2             38   \n",
       "2  OH01801         BAY VILLAGE     15,327             2             73   \n",
       "3  OH01803             BEDFORD     12,641            25            228   \n",
       "4  OH01804     BEDFORD HEIGHTS     10,558            22            255   \n",
       "\n",
       "   MURDER RAPE ROBBERY AGGRAVATED ASSAULT BURGLARY LARCENY MTR VEHICLE THEFT  \\\n",
       "0   107.0  497   2,697              2,698    5,853   9,696             3,395   \n",
       "1     NaN    2     NaN                NaN        9      29               NaN   \n",
       "2     NaN    1     NaN                  1       11      61                 1   \n",
       "3     1.0    1      16                  7       50     146                32   \n",
       "4     1.0    1       9                 11       32     173                50   \n",
       "\n",
       "  ARSON  \n",
       "0   253  \n",
       "1   NaN  \n",
       "2   NaN  \n",
       "3   NaN  \n",
       "4   NaN  "
      ]
     },
     "execution_count": 3,
     "metadata": {},
     "output_type": "execute_result"
    }
   ],
   "source": [
    "cuy_crime=crime_2017.loc[153:199, :].reset_index(drop=True)\n",
    "cuy_crime.head()"
   ]
  },
  {
   "cell_type": "code",
   "execution_count": 4,
   "metadata": {},
   "outputs": [
    {
     "data": {
      "text/html": [
       "<div>\n",
       "<style scoped>\n",
       "    .dataframe tbody tr th:only-of-type {\n",
       "        vertical-align: middle;\n",
       "    }\n",
       "\n",
       "    .dataframe tbody tr th {\n",
       "        vertical-align: top;\n",
       "    }\n",
       "\n",
       "    .dataframe thead th {\n",
       "        text-align: right;\n",
       "    }\n",
       "</style>\n",
       "<table border=\"1\" class=\"dataframe\">\n",
       "  <thead>\n",
       "    <tr style=\"text-align: right;\">\n",
       "      <th></th>\n",
       "      <th>ORI</th>\n",
       "      <th>AGENCY NAME</th>\n",
       "      <th>POPULATION</th>\n",
       "      <th>VIOLENT CRIME</th>\n",
       "      <th>PROPERTY CRIME</th>\n",
       "      <th>MURDER</th>\n",
       "      <th>RAPE</th>\n",
       "      <th>ROBBERY</th>\n",
       "      <th>AGGRAVATED ASSAULT</th>\n",
       "      <th>BURGLARY</th>\n",
       "      <th>LARCENY</th>\n",
       "      <th>MTR VEHICLE THEFT</th>\n",
       "      <th>ARSON</th>\n",
       "    </tr>\n",
       "  </thead>\n",
       "  <tbody>\n",
       "    <tr>\n",
       "      <th>0</th>\n",
       "      <td>OHCLP00</td>\n",
       "      <td>CLEVELAND</td>\n",
       "      <td>385,351</td>\n",
       "      <td>5,999</td>\n",
       "      <td>18,944</td>\n",
       "      <td>107.0</td>\n",
       "      <td>497</td>\n",
       "      <td>2,697</td>\n",
       "      <td>2,698</td>\n",
       "      <td>5,853</td>\n",
       "      <td>9,696</td>\n",
       "      <td>3,395</td>\n",
       "      <td>253</td>\n",
       "    </tr>\n",
       "    <tr>\n",
       "      <th>1</th>\n",
       "      <td>OH018A1</td>\n",
       "      <td>NOTRE DAME COLLEGE</td>\n",
       "      <td>0</td>\n",
       "      <td>2</td>\n",
       "      <td>38</td>\n",
       "      <td>0.0</td>\n",
       "      <td>2</td>\n",
       "      <td>0</td>\n",
       "      <td>0</td>\n",
       "      <td>9</td>\n",
       "      <td>29</td>\n",
       "      <td>0</td>\n",
       "      <td>0</td>\n",
       "    </tr>\n",
       "    <tr>\n",
       "      <th>2</th>\n",
       "      <td>OH01801</td>\n",
       "      <td>BAY VILLAGE</td>\n",
       "      <td>15,327</td>\n",
       "      <td>2</td>\n",
       "      <td>73</td>\n",
       "      <td>0.0</td>\n",
       "      <td>1</td>\n",
       "      <td>0</td>\n",
       "      <td>1</td>\n",
       "      <td>11</td>\n",
       "      <td>61</td>\n",
       "      <td>1</td>\n",
       "      <td>0</td>\n",
       "    </tr>\n",
       "    <tr>\n",
       "      <th>3</th>\n",
       "      <td>OH01803</td>\n",
       "      <td>BEDFORD</td>\n",
       "      <td>12,641</td>\n",
       "      <td>25</td>\n",
       "      <td>228</td>\n",
       "      <td>1.0</td>\n",
       "      <td>1</td>\n",
       "      <td>16</td>\n",
       "      <td>7</td>\n",
       "      <td>50</td>\n",
       "      <td>146</td>\n",
       "      <td>32</td>\n",
       "      <td>0</td>\n",
       "    </tr>\n",
       "    <tr>\n",
       "      <th>4</th>\n",
       "      <td>OH01804</td>\n",
       "      <td>BEDFORD HEIGHTS</td>\n",
       "      <td>10,558</td>\n",
       "      <td>22</td>\n",
       "      <td>255</td>\n",
       "      <td>1.0</td>\n",
       "      <td>1</td>\n",
       "      <td>9</td>\n",
       "      <td>11</td>\n",
       "      <td>32</td>\n",
       "      <td>173</td>\n",
       "      <td>50</td>\n",
       "      <td>0</td>\n",
       "    </tr>\n",
       "  </tbody>\n",
       "</table>\n",
       "</div>"
      ],
      "text/plain": [
       "       ORI         AGENCY NAME POPULATION VIOLENT CRIME PROPERTY CRIME  \\\n",
       "0  OHCLP00           CLEVELAND    385,351         5,999         18,944   \n",
       "1  OH018A1  NOTRE DAME COLLEGE          0             2             38   \n",
       "2  OH01801         BAY VILLAGE     15,327             2             73   \n",
       "3  OH01803             BEDFORD     12,641            25            228   \n",
       "4  OH01804     BEDFORD HEIGHTS     10,558            22            255   \n",
       "\n",
       "   MURDER RAPE ROBBERY AGGRAVATED ASSAULT BURGLARY LARCENY MTR VEHICLE THEFT  \\\n",
       "0   107.0  497   2,697              2,698    5,853   9,696             3,395   \n",
       "1     0.0    2       0                  0        9      29                 0   \n",
       "2     0.0    1       0                  1       11      61                 1   \n",
       "3     1.0    1      16                  7       50     146                32   \n",
       "4     1.0    1       9                 11       32     173                50   \n",
       "\n",
       "  ARSON  \n",
       "0   253  \n",
       "1     0  \n",
       "2     0  \n",
       "3     0  \n",
       "4     0  "
      ]
     },
     "execution_count": 4,
     "metadata": {},
     "output_type": "execute_result"
    }
   ],
   "source": [
    "cuy_crime_null=cuy_crime.fillna(0)\n",
    "cuy_crime_null.head()"
   ]
  },
  {
   "cell_type": "code",
   "execution_count": 5,
   "metadata": {},
   "outputs": [
    {
     "data": {
      "text/html": [
       "<div>\n",
       "<style scoped>\n",
       "    .dataframe tbody tr th:only-of-type {\n",
       "        vertical-align: middle;\n",
       "    }\n",
       "\n",
       "    .dataframe tbody tr th {\n",
       "        vertical-align: top;\n",
       "    }\n",
       "\n",
       "    .dataframe thead th {\n",
       "        text-align: right;\n",
       "    }\n",
       "</style>\n",
       "<table border=\"1\" class=\"dataframe\">\n",
       "  <thead>\n",
       "    <tr style=\"text-align: right;\">\n",
       "      <th></th>\n",
       "      <th>ORI</th>\n",
       "      <th>AGENCY NAME</th>\n",
       "      <th>POPULATION</th>\n",
       "      <th>VIOLENT CRIME</th>\n",
       "      <th>PROPERTY CRIME</th>\n",
       "      <th>MURDER</th>\n",
       "      <th>RAPE</th>\n",
       "      <th>ROBBERY</th>\n",
       "      <th>AGGRAVATED ASSAULT</th>\n",
       "      <th>BURGLARY</th>\n",
       "      <th>LARCENY</th>\n",
       "      <th>MTR VEHICLE THEFT</th>\n",
       "      <th>ARSON</th>\n",
       "    </tr>\n",
       "  </thead>\n",
       "  <tbody>\n",
       "    <tr>\n",
       "      <th>0</th>\n",
       "      <td>OHCLP00</td>\n",
       "      <td>CLEVELAND</td>\n",
       "      <td>385,351</td>\n",
       "      <td>5,999</td>\n",
       "      <td>18,944</td>\n",
       "      <td>107.0</td>\n",
       "      <td>497</td>\n",
       "      <td>2,697</td>\n",
       "      <td>2,698</td>\n",
       "      <td>5,853</td>\n",
       "      <td>9,696</td>\n",
       "      <td>3,395</td>\n",
       "      <td>253</td>\n",
       "    </tr>\n",
       "    <tr>\n",
       "      <th>1</th>\n",
       "      <td>OH01801</td>\n",
       "      <td>BAY VILLAGE</td>\n",
       "      <td>15,327</td>\n",
       "      <td>2</td>\n",
       "      <td>73</td>\n",
       "      <td>0.0</td>\n",
       "      <td>1</td>\n",
       "      <td>0</td>\n",
       "      <td>1</td>\n",
       "      <td>11</td>\n",
       "      <td>61</td>\n",
       "      <td>1</td>\n",
       "      <td>0</td>\n",
       "    </tr>\n",
       "    <tr>\n",
       "      <th>2</th>\n",
       "      <td>OH01803</td>\n",
       "      <td>BEDFORD</td>\n",
       "      <td>12,641</td>\n",
       "      <td>25</td>\n",
       "      <td>228</td>\n",
       "      <td>1.0</td>\n",
       "      <td>1</td>\n",
       "      <td>16</td>\n",
       "      <td>7</td>\n",
       "      <td>50</td>\n",
       "      <td>146</td>\n",
       "      <td>32</td>\n",
       "      <td>0</td>\n",
       "    </tr>\n",
       "    <tr>\n",
       "      <th>3</th>\n",
       "      <td>OH01804</td>\n",
       "      <td>BEDFORD HEIGHTS</td>\n",
       "      <td>10,558</td>\n",
       "      <td>22</td>\n",
       "      <td>255</td>\n",
       "      <td>1.0</td>\n",
       "      <td>1</td>\n",
       "      <td>9</td>\n",
       "      <td>11</td>\n",
       "      <td>32</td>\n",
       "      <td>173</td>\n",
       "      <td>50</td>\n",
       "      <td>0</td>\n",
       "    </tr>\n",
       "    <tr>\n",
       "      <th>4</th>\n",
       "      <td>OH01806</td>\n",
       "      <td>BEREA</td>\n",
       "      <td>18,871</td>\n",
       "      <td>8</td>\n",
       "      <td>140</td>\n",
       "      <td>0.0</td>\n",
       "      <td>1</td>\n",
       "      <td>1</td>\n",
       "      <td>6</td>\n",
       "      <td>27</td>\n",
       "      <td>105</td>\n",
       "      <td>8</td>\n",
       "      <td>2</td>\n",
       "    </tr>\n",
       "  </tbody>\n",
       "</table>\n",
       "</div>"
      ],
      "text/plain": [
       "       ORI      AGENCY NAME POPULATION VIOLENT CRIME PROPERTY CRIME  MURDER  \\\n",
       "0  OHCLP00        CLEVELAND    385,351         5,999         18,944   107.0   \n",
       "1  OH01801      BAY VILLAGE     15,327             2             73     0.0   \n",
       "2  OH01803          BEDFORD     12,641            25            228     1.0   \n",
       "3  OH01804  BEDFORD HEIGHTS     10,558            22            255     1.0   \n",
       "4  OH01806            BEREA     18,871             8            140     0.0   \n",
       "\n",
       "  RAPE ROBBERY AGGRAVATED ASSAULT BURGLARY LARCENY MTR VEHICLE THEFT ARSON  \n",
       "0  497   2,697              2,698    5,853   9,696             3,395   253  \n",
       "1    1       0                  1       11      61                 1     0  \n",
       "2    1      16                  7       50     146                32     0  \n",
       "3    1       9                 11       32     173                50     0  \n",
       "4    1       1                  6       27     105                 8     2  "
      ]
     },
     "execution_count": 5,
     "metadata": {},
     "output_type": "execute_result"
    }
   ],
   "source": [
    "cuy_data=cuy_crime_null.drop(cuy_crime_null[cuy_crime_null[\"POPULATION\"]==0].index).reset_index(drop=True)\n",
    "cuy_data.head()"
   ]
  },
  {
   "cell_type": "code",
   "execution_count": 6,
   "metadata": {
    "tags": []
   },
   "outputs": [
    {
     "name": "stdout",
     "output_type": "stream",
     "text": [
      "<class 'pandas.core.frame.DataFrame'>\n",
      "RangeIndex: 42 entries, 0 to 41\n",
      "Data columns (total 13 columns):\n",
      " #   Column              Non-Null Count  Dtype  \n",
      "---  ------              --------------  -----  \n",
      " 0   ORI                 42 non-null     object \n",
      " 1   AGENCY NAME         42 non-null     object \n",
      " 2   POPULATION          42 non-null     object \n",
      " 3   VIOLENT CRIME       42 non-null     object \n",
      " 4   PROPERTY CRIME      42 non-null     object \n",
      " 5   MURDER              42 non-null     float64\n",
      " 6   RAPE                42 non-null     object \n",
      " 7   ROBBERY             42 non-null     object \n",
      " 8   AGGRAVATED ASSAULT  42 non-null     object \n",
      " 9   BURGLARY            42 non-null     object \n",
      " 10  LARCENY             42 non-null     object \n",
      " 11  MTR VEHICLE THEFT   42 non-null     object \n",
      " 12  ARSON               42 non-null     object \n",
      "dtypes: float64(1), object(12)\n",
      "memory usage: 4.4+ KB\n"
     ]
    }
   ],
   "source": [
    "#Summary of cuy_data_df. This shows that the Population and crime categories are typed as objects, except for \"Murder\"\n",
    "cuy_data.info()"
   ]
  },
  {
   "cell_type": "code",
   "execution_count": 7,
   "metadata": {
    "tags": []
   },
   "outputs": [
    {
     "name": "stdout",
     "output_type": "stream",
     "text": [
      "<class 'pandas.core.frame.DataFrame'>\n",
      "RangeIndex: 42 entries, 0 to 41\n",
      "Data columns (total 13 columns):\n",
      " #   Column              Non-Null Count  Dtype  \n",
      "---  ------              --------------  -----  \n",
      " 0   ORI                 42 non-null     object \n",
      " 1   AGENCY NAME         42 non-null     object \n",
      " 2   POPULATION          42 non-null     int64  \n",
      " 3   VIOLENT CRIME       42 non-null     int64  \n",
      " 4   PROPERTY CRIME      42 non-null     int64  \n",
      " 5   MURDER              42 non-null     float64\n",
      " 6   RAPE                42 non-null     int64  \n",
      " 7   ROBBERY             42 non-null     int64  \n",
      " 8   AGGRAVATED ASSAULT  42 non-null     int64  \n",
      " 9   BURGLARY            42 non-null     int64  \n",
      " 10  LARCENY             42 non-null     int64  \n",
      " 11  MTR VEHICLE THEFT   42 non-null     int64  \n",
      " 12  ARSON               42 non-null     int64  \n",
      "dtypes: float64(1), int64(10), object(2)\n",
      "memory usage: 4.4+ KB\n"
     ]
    }
   ],
   "source": [
    "#Remove commas from numerical values to be able to change values to integers\n",
    "#df.replace(',','', regex=True, inplace=True)\n",
    "cuy_data.replace(',','', regex=True, inplace=True)\n",
    "cuy_data.head()\n",
    "\n",
    "\n",
    "#Change Population & Crime categories from object to numeric values using pd.to_numeric(s, errors='coerce')\n",
    "cuy_data[\"POPULATION\"]=pd.to_numeric(cuy_data[\"POPULATION\"])\n",
    "cuy_data[\"VIOLENT CRIME\"]=pd.to_numeric(cuy_data[\"VIOLENT CRIME\"])\n",
    "cuy_data[\"PROPERTY CRIME\"]=pd.to_numeric(cuy_data[\"PROPERTY CRIME\"])\n",
    "cuy_data[\"MURDER\"]=pd.to_numeric(cuy_data[\"MURDER\"])\n",
    "cuy_data[\"RAPE\"]=pd.to_numeric(cuy_data[\"RAPE\"])\n",
    "cuy_data[\"ROBBERY\"]=pd.to_numeric(cuy_data[\"ROBBERY\"])\n",
    "cuy_data[\"AGGRAVATED ASSAULT\"]=pd.to_numeric(cuy_data[\"AGGRAVATED ASSAULT\"])\n",
    "cuy_data[\"BURGLARY\"]=pd.to_numeric(cuy_data[\"BURGLARY\"])\n",
    "cuy_data[\"LARCENY\"]=pd.to_numeric(cuy_data[\"LARCENY\"])\n",
    "cuy_data[\"MTR VEHICLE THEFT\"]=pd.to_numeric(cuy_data[\"MTR VEHICLE THEFT\"])\n",
    "cuy_data[\"ARSON\"]=pd.to_numeric(cuy_data[\"ARSON\"])\n",
    "\n",
    "#Summary of cuy_data_df to check that the values now show as numeric, either integer or float\n",
    "cuy_data.info()"
   ]
  },
  {
   "cell_type": "code",
   "execution_count": 8,
   "metadata": {},
   "outputs": [
    {
     "data": {
      "text/html": [
       "<div>\n",
       "<style scoped>\n",
       "    .dataframe tbody tr th:only-of-type {\n",
       "        vertical-align: middle;\n",
       "    }\n",
       "\n",
       "    .dataframe tbody tr th {\n",
       "        vertical-align: top;\n",
       "    }\n",
       "\n",
       "    .dataframe thead th {\n",
       "        text-align: right;\n",
       "    }\n",
       "</style>\n",
       "<table border=\"1\" class=\"dataframe\">\n",
       "  <thead>\n",
       "    <tr style=\"text-align: right;\">\n",
       "      <th></th>\n",
       "      <th>ORI</th>\n",
       "      <th>AGENCY NAME</th>\n",
       "      <th>POPULATION</th>\n",
       "      <th>VIOLENT CRIME</th>\n",
       "      <th>PROPERTY CRIME</th>\n",
       "      <th>MURDER</th>\n",
       "      <th>RAPE</th>\n",
       "      <th>ROBBERY</th>\n",
       "      <th>AGGRAVATED ASSAULT</th>\n",
       "      <th>BURGLARY</th>\n",
       "      <th>LARCENY</th>\n",
       "      <th>MTR VEHICLE THEFT</th>\n",
       "      <th>ARSON</th>\n",
       "      <th>TOTALS</th>\n",
       "    </tr>\n",
       "  </thead>\n",
       "  <tbody>\n",
       "    <tr>\n",
       "      <th>0</th>\n",
       "      <td>OHCLP00</td>\n",
       "      <td>CLEVELAND</td>\n",
       "      <td>385351</td>\n",
       "      <td>5999</td>\n",
       "      <td>18944</td>\n",
       "      <td>107.0</td>\n",
       "      <td>497</td>\n",
       "      <td>2697</td>\n",
       "      <td>2698</td>\n",
       "      <td>5853</td>\n",
       "      <td>9696</td>\n",
       "      <td>3395</td>\n",
       "      <td>253</td>\n",
       "      <td>50139.0</td>\n",
       "    </tr>\n",
       "    <tr>\n",
       "      <th>1</th>\n",
       "      <td>OH01801</td>\n",
       "      <td>BAY VILLAGE</td>\n",
       "      <td>15327</td>\n",
       "      <td>2</td>\n",
       "      <td>73</td>\n",
       "      <td>0.0</td>\n",
       "      <td>1</td>\n",
       "      <td>0</td>\n",
       "      <td>1</td>\n",
       "      <td>11</td>\n",
       "      <td>61</td>\n",
       "      <td>1</td>\n",
       "      <td>0</td>\n",
       "      <td>150.0</td>\n",
       "    </tr>\n",
       "    <tr>\n",
       "      <th>2</th>\n",
       "      <td>OH01803</td>\n",
       "      <td>BEDFORD</td>\n",
       "      <td>12641</td>\n",
       "      <td>25</td>\n",
       "      <td>228</td>\n",
       "      <td>1.0</td>\n",
       "      <td>1</td>\n",
       "      <td>16</td>\n",
       "      <td>7</td>\n",
       "      <td>50</td>\n",
       "      <td>146</td>\n",
       "      <td>32</td>\n",
       "      <td>0</td>\n",
       "      <td>506.0</td>\n",
       "    </tr>\n",
       "    <tr>\n",
       "      <th>3</th>\n",
       "      <td>OH01804</td>\n",
       "      <td>BEDFORD HEIGHTS</td>\n",
       "      <td>10558</td>\n",
       "      <td>22</td>\n",
       "      <td>255</td>\n",
       "      <td>1.0</td>\n",
       "      <td>1</td>\n",
       "      <td>9</td>\n",
       "      <td>11</td>\n",
       "      <td>32</td>\n",
       "      <td>173</td>\n",
       "      <td>50</td>\n",
       "      <td>0</td>\n",
       "      <td>554.0</td>\n",
       "    </tr>\n",
       "    <tr>\n",
       "      <th>4</th>\n",
       "      <td>OH01806</td>\n",
       "      <td>BEREA</td>\n",
       "      <td>18871</td>\n",
       "      <td>8</td>\n",
       "      <td>140</td>\n",
       "      <td>0.0</td>\n",
       "      <td>1</td>\n",
       "      <td>1</td>\n",
       "      <td>6</td>\n",
       "      <td>27</td>\n",
       "      <td>105</td>\n",
       "      <td>8</td>\n",
       "      <td>2</td>\n",
       "      <td>298.0</td>\n",
       "    </tr>\n",
       "  </tbody>\n",
       "</table>\n",
       "</div>"
      ],
      "text/plain": [
       "       ORI      AGENCY NAME  POPULATION  VIOLENT CRIME  PROPERTY CRIME  \\\n",
       "0  OHCLP00        CLEVELAND      385351           5999           18944   \n",
       "1  OH01801      BAY VILLAGE       15327              2              73   \n",
       "2  OH01803          BEDFORD       12641             25             228   \n",
       "3  OH01804  BEDFORD HEIGHTS       10558             22             255   \n",
       "4  OH01806            BEREA       18871              8             140   \n",
       "\n",
       "   MURDER  RAPE  ROBBERY  AGGRAVATED ASSAULT  BURGLARY  LARCENY  \\\n",
       "0   107.0   497     2697                2698      5853     9696   \n",
       "1     0.0     1        0                   1        11       61   \n",
       "2     1.0     1       16                   7        50      146   \n",
       "3     1.0     1        9                  11        32      173   \n",
       "4     0.0     1        1                   6        27      105   \n",
       "\n",
       "   MTR VEHICLE THEFT  ARSON   TOTALS  \n",
       "0               3395    253  50139.0  \n",
       "1                  1      0    150.0  \n",
       "2                 32      0    506.0  \n",
       "3                 50      0    554.0  \n",
       "4                  8      2    298.0  "
      ]
     },
     "execution_count": 8,
     "metadata": {},
     "output_type": "execute_result"
    }
   ],
   "source": [
    "#Drop the Population column from the sum shown in Totals column but keep the Population Column in the dataframe.\n",
    "cuy_data['TOTALS'] = cuy_data.drop('POPULATION', axis=1).sum(axis=1)\n",
    "cuy_data.head()"
   ]
  },
  {
   "cell_type": "code",
   "execution_count": 9,
   "metadata": {},
   "outputs": [
    {
     "data": {
      "image/png": "[encoded data removed]",
      "text/plain": [
       "<Figure size 432x288 with 1 Axes>"
      ]
     },
     "metadata": {},
     "output_type": "display_data"
    }
   ],
   "source": [
    "#Pie chart of totals\n",
    "plot = cuy_data.plot.pie(y='TOTALS')"
   ]
  },
  {
   "cell_type": "code",
   "execution_count": 11,
   "metadata": {},
   "outputs": [
    {
     "data": {
      "text/html": [
       "<div>\n",
       "<style scoped>\n",
       "    .dataframe tbody tr th:only-of-type {\n",
       "        vertical-align: middle;\n",
       "    }\n",
       "\n",
       "    .dataframe tbody tr th {\n",
       "        vertical-align: top;\n",
       "    }\n",
       "\n",
       "    .dataframe thead th {\n",
       "        text-align: right;\n",
       "    }\n",
       "</style>\n",
       "<table border=\"1\" class=\"dataframe\">\n",
       "  <thead>\n",
       "    <tr style=\"text-align: right;\">\n",
       "      <th></th>\n",
       "      <th>ORI</th>\n",
       "      <th>AGENCY NAME</th>\n",
       "      <th>POPULATION</th>\n",
       "      <th>VIOLENT CRIME</th>\n",
       "      <th>PROPERTY CRIME</th>\n",
       "      <th>MURDER</th>\n",
       "      <th>RAPE</th>\n",
       "      <th>ROBBERY</th>\n",
       "      <th>AGGRAVATED ASSAULT</th>\n",
       "      <th>BURGLARY</th>\n",
       "      <th>LARCENY</th>\n",
       "      <th>MTR VEHICLE THEFT</th>\n",
       "      <th>ARSON</th>\n",
       "      <th>TOTALS</th>\n",
       "    </tr>\n",
       "  </thead>\n",
       "  <tbody>\n",
       "    <tr>\n",
       "      <th>0</th>\n",
       "      <td>OHCLP00</td>\n",
       "      <td>CLEVELAND</td>\n",
       "      <td>385351</td>\n",
       "      <td>5999</td>\n",
       "      <td>18944</td>\n",
       "      <td>107.0</td>\n",
       "      <td>497</td>\n",
       "      <td>2697</td>\n",
       "      <td>2698</td>\n",
       "      <td>5853</td>\n",
       "      <td>9696</td>\n",
       "      <td>3395</td>\n",
       "      <td>253</td>\n",
       "      <td>50139.0</td>\n",
       "    </tr>\n",
       "    <tr>\n",
       "      <th>1</th>\n",
       "      <td>OH01801</td>\n",
       "      <td>BAY VILLAGE</td>\n",
       "      <td>15327</td>\n",
       "      <td>2</td>\n",
       "      <td>73</td>\n",
       "      <td>0.0</td>\n",
       "      <td>1</td>\n",
       "      <td>0</td>\n",
       "      <td>1</td>\n",
       "      <td>11</td>\n",
       "      <td>61</td>\n",
       "      <td>1</td>\n",
       "      <td>0</td>\n",
       "      <td>150.0</td>\n",
       "    </tr>\n",
       "    <tr>\n",
       "      <th>2</th>\n",
       "      <td>OH01803</td>\n",
       "      <td>BEDFORD</td>\n",
       "      <td>12641</td>\n",
       "      <td>25</td>\n",
       "      <td>228</td>\n",
       "      <td>1.0</td>\n",
       "      <td>1</td>\n",
       "      <td>16</td>\n",
       "      <td>7</td>\n",
       "      <td>50</td>\n",
       "      <td>146</td>\n",
       "      <td>32</td>\n",
       "      <td>0</td>\n",
       "      <td>506.0</td>\n",
       "    </tr>\n",
       "    <tr>\n",
       "      <th>3</th>\n",
       "      <td>OH01804</td>\n",
       "      <td>BEDFORD HEIGHTS</td>\n",
       "      <td>10558</td>\n",
       "      <td>22</td>\n",
       "      <td>255</td>\n",
       "      <td>1.0</td>\n",
       "      <td>1</td>\n",
       "      <td>9</td>\n",
       "      <td>11</td>\n",
       "      <td>32</td>\n",
       "      <td>173</td>\n",
       "      <td>50</td>\n",
       "      <td>0</td>\n",
       "      <td>554.0</td>\n",
       "    </tr>\n",
       "    <tr>\n",
       "      <th>4</th>\n",
       "      <td>OH01806</td>\n",
       "      <td>BEREA</td>\n",
       "      <td>18871</td>\n",
       "      <td>8</td>\n",
       "      <td>140</td>\n",
       "      <td>0.0</td>\n",
       "      <td>1</td>\n",
       "      <td>1</td>\n",
       "      <td>6</td>\n",
       "      <td>27</td>\n",
       "      <td>105</td>\n",
       "      <td>8</td>\n",
       "      <td>2</td>\n",
       "      <td>298.0</td>\n",
       "    </tr>\n",
       "  </tbody>\n",
       "</table>\n",
       "</div>"
      ],
      "text/plain": [
       "       ORI      AGENCY NAME  POPULATION  VIOLENT CRIME  PROPERTY CRIME  \\\n",
       "0  OHCLP00        CLEVELAND      385351           5999           18944   \n",
       "1  OH01801      BAY VILLAGE       15327              2              73   \n",
       "2  OH01803          BEDFORD       12641             25             228   \n",
       "3  OH01804  BEDFORD HEIGHTS       10558             22             255   \n",
       "4  OH01806            BEREA       18871              8             140   \n",
       "\n",
       "   MURDER  RAPE  ROBBERY  AGGRAVATED ASSAULT  BURGLARY  LARCENY  \\\n",
       "0   107.0   497     2697                2698      5853     9696   \n",
       "1     0.0     1        0                   1        11       61   \n",
       "2     1.0     1       16                   7        50      146   \n",
       "3     1.0     1        9                  11        32      173   \n",
       "4     0.0     1        1                   6        27      105   \n",
       "\n",
       "   MTR VEHICLE THEFT  ARSON   TOTALS  \n",
       "0               3395    253  50139.0  \n",
       "1                  1      0    150.0  \n",
       "2                 32      0    506.0  \n",
       "3                 50      0    554.0  \n",
       "4                  8      2    298.0  "
      ]
     },
     "execution_count": 11,
     "metadata": {},
     "output_type": "execute_result"
    }
   ],
   "source": [
    "cuy_data.head()"
   ]
  },
  {
   "cell_type": "code",
   "execution_count": 13,
   "metadata": {},
   "outputs": [
    {
     "data": {
      "text/html": [
       "<div>\n",
       "<style scoped>\n",
       "    .dataframe tbody tr th:only-of-type {\n",
       "        vertical-align: middle;\n",
       "    }\n",
       "\n",
       "    .dataframe tbody tr th {\n",
       "        vertical-align: top;\n",
       "    }\n",
       "\n",
       "    .dataframe thead th {\n",
       "        text-align: right;\n",
       "    }\n",
       "</style>\n",
       "<table border=\"1\" class=\"dataframe\">\n",
       "  <thead>\n",
       "    <tr style=\"text-align: right;\">\n",
       "      <th></th>\n",
       "      <th>ORI</th>\n",
       "      <th>POPULATION</th>\n",
       "      <th>VIOLENT CRIME</th>\n",
       "      <th>PROPERTY CRIME</th>\n",
       "      <th>MURDER</th>\n",
       "      <th>RAPE</th>\n",
       "      <th>ROBBERY</th>\n",
       "      <th>AGGRAVATED ASSAULT</th>\n",
       "      <th>BURGLARY</th>\n",
       "      <th>LARCENY</th>\n",
       "      <th>MTR VEHICLE THEFT</th>\n",
       "      <th>ARSON</th>\n",
       "      <th>TOTALS</th>\n",
       "    </tr>\n",
       "    <tr>\n",
       "      <th>AGENCY NAME</th>\n",
       "      <th></th>\n",
       "      <th></th>\n",
       "      <th></th>\n",
       "      <th></th>\n",
       "      <th></th>\n",
       "      <th></th>\n",
       "      <th></th>\n",
       "      <th></th>\n",
       "      <th></th>\n",
       "      <th></th>\n",
       "      <th></th>\n",
       "      <th></th>\n",
       "      <th></th>\n",
       "    </tr>\n",
       "  </thead>\n",
       "  <tbody>\n",
       "    <tr>\n",
       "      <th>CLEVELAND</th>\n",
       "      <td>OHCLP00</td>\n",
       "      <td>385351</td>\n",
       "      <td>5999</td>\n",
       "      <td>18944</td>\n",
       "      <td>107.0</td>\n",
       "      <td>497</td>\n",
       "      <td>2697</td>\n",
       "      <td>2698</td>\n",
       "      <td>5853</td>\n",
       "      <td>9696</td>\n",
       "      <td>3395</td>\n",
       "      <td>253</td>\n",
       "      <td>50139.0</td>\n",
       "    </tr>\n",
       "    <tr>\n",
       "      <th>PARMA</th>\n",
       "      <td>OH01842</td>\n",
       "      <td>79340</td>\n",
       "      <td>141</td>\n",
       "      <td>906</td>\n",
       "      <td>0.0</td>\n",
       "      <td>39</td>\n",
       "      <td>37</td>\n",
       "      <td>65</td>\n",
       "      <td>199</td>\n",
       "      <td>633</td>\n",
       "      <td>74</td>\n",
       "      <td>2</td>\n",
       "      <td>2096.0</td>\n",
       "    </tr>\n",
       "    <tr>\n",
       "      <th>LAKEWOOD</th>\n",
       "      <td>OH01826</td>\n",
       "      <td>50151</td>\n",
       "      <td>74</td>\n",
       "      <td>1199</td>\n",
       "      <td>2.0</td>\n",
       "      <td>6</td>\n",
       "      <td>40</td>\n",
       "      <td>26</td>\n",
       "      <td>469</td>\n",
       "      <td>652</td>\n",
       "      <td>78</td>\n",
       "      <td>5</td>\n",
       "      <td>2551.0</td>\n",
       "    </tr>\n",
       "    <tr>\n",
       "      <th>EUCLID</th>\n",
       "      <td>OH01818</td>\n",
       "      <td>47270</td>\n",
       "      <td>303</td>\n",
       "      <td>1267</td>\n",
       "      <td>4.0</td>\n",
       "      <td>26</td>\n",
       "      <td>118</td>\n",
       "      <td>155</td>\n",
       "      <td>226</td>\n",
       "      <td>910</td>\n",
       "      <td>131</td>\n",
       "      <td>6</td>\n",
       "      <td>3146.0</td>\n",
       "    </tr>\n",
       "    <tr>\n",
       "      <th>STRONGSVILLE</th>\n",
       "      <td>OH01851</td>\n",
       "      <td>44758</td>\n",
       "      <td>18</td>\n",
       "      <td>852</td>\n",
       "      <td>2.0</td>\n",
       "      <td>1</td>\n",
       "      <td>9</td>\n",
       "      <td>6</td>\n",
       "      <td>67</td>\n",
       "      <td>760</td>\n",
       "      <td>25</td>\n",
       "      <td>0</td>\n",
       "      <td>1740.0</td>\n",
       "    </tr>\n",
       "    <tr>\n",
       "      <th>CLEVELAND HEIGHTS</th>\n",
       "      <td>OH01815</td>\n",
       "      <td>44525</td>\n",
       "      <td>131</td>\n",
       "      <td>879</td>\n",
       "      <td>2.0</td>\n",
       "      <td>16</td>\n",
       "      <td>79</td>\n",
       "      <td>34</td>\n",
       "      <td>125</td>\n",
       "      <td>655</td>\n",
       "      <td>99</td>\n",
       "      <td>1</td>\n",
       "      <td>2021.0</td>\n",
       "    </tr>\n",
       "    <tr>\n",
       "      <th>WESTLAKE</th>\n",
       "      <td>OH01857</td>\n",
       "      <td>32330</td>\n",
       "      <td>13</td>\n",
       "      <td>366</td>\n",
       "      <td>0.0</td>\n",
       "      <td>1</td>\n",
       "      <td>9</td>\n",
       "      <td>3</td>\n",
       "      <td>25</td>\n",
       "      <td>326</td>\n",
       "      <td>15</td>\n",
       "      <td>0</td>\n",
       "      <td>758.0</td>\n",
       "    </tr>\n",
       "    <tr>\n",
       "      <th>BROOKLYN</th>\n",
       "      <td>OH01810</td>\n",
       "      <td>10809</td>\n",
       "      <td>23</td>\n",
       "      <td>677</td>\n",
       "      <td>1.0</td>\n",
       "      <td>5</td>\n",
       "      <td>11</td>\n",
       "      <td>6</td>\n",
       "      <td>31</td>\n",
       "      <td>612</td>\n",
       "      <td>34</td>\n",
       "      <td>0</td>\n",
       "      <td>1400.0</td>\n",
       "    </tr>\n",
       "  </tbody>\n",
       "</table>\n",
       "</div>"
      ],
      "text/plain": [
       "                       ORI  POPULATION  VIOLENT CRIME  PROPERTY CRIME  MURDER  \\\n",
       "AGENCY NAME                                                                     \n",
       "CLEVELAND          OHCLP00      385351           5999           18944   107.0   \n",
       "PARMA              OH01842       79340            141             906     0.0   \n",
       "LAKEWOOD           OH01826       50151             74            1199     2.0   \n",
       "EUCLID             OH01818       47270            303            1267     4.0   \n",
       "STRONGSVILLE       OH01851       44758             18             852     2.0   \n",
       "CLEVELAND HEIGHTS  OH01815       44525            131             879     2.0   \n",
       "WESTLAKE           OH01857       32330             13             366     0.0   \n",
       "BROOKLYN           OH01810       10809             23             677     1.0   \n",
       "\n",
       "                   RAPE  ROBBERY  AGGRAVATED ASSAULT  BURGLARY  LARCENY  \\\n",
       "AGENCY NAME                                                               \n",
       "CLEVELAND           497     2697                2698      5853     9696   \n",
       "PARMA                39       37                  65       199      633   \n",
       "LAKEWOOD              6       40                  26       469      652   \n",
       "EUCLID               26      118                 155       226      910   \n",
       "STRONGSVILLE          1        9                   6        67      760   \n",
       "CLEVELAND HEIGHTS    16       79                  34       125      655   \n",
       "WESTLAKE              1        9                   3        25      326   \n",
       "BROOKLYN              5       11                   6        31      612   \n",
       "\n",
       "                   MTR VEHICLE THEFT  ARSON   TOTALS  \n",
       "AGENCY NAME                                           \n",
       "CLEVELAND                       3395    253  50139.0  \n",
       "PARMA                             74      2   2096.0  \n",
       "LAKEWOOD                          78      5   2551.0  \n",
       "EUCLID                           131      6   3146.0  \n",
       "STRONGSVILLE                      25      0   1740.0  \n",
       "CLEVELAND HEIGHTS                 99      1   2021.0  \n",
       "WESTLAKE                          15      0    758.0  \n",
       "BROOKLYN                          34      0   1400.0  "
      ]
     },
     "execution_count": 13,
     "metadata": {},
     "output_type": "execute_result"
    }
   ],
   "source": [
    "#Use .loc for the index \n",
    "pop_cuy_data=index_cuy_data.loc[[\"CLEVELAND\", \"PARMA\", \"LAKEWOOD\", \"EUCLID\", \"STRONGSVILLE\", \"CLEVELAND HEIGHTS\", \"WESTLAKE\", \"BROOKLYN\"]]\n",
    "pop_cuy_data"
   ]
  },
  {
   "cell_type": "code",
   "execution_count": 48,
   "metadata": {},
   "outputs": [
    {
     "data": {
      "text/html": [
       "<div>\n",
       "<style scoped>\n",
       "    .dataframe tbody tr th:only-of-type {\n",
       "        vertical-align: middle;\n",
       "    }\n",
       "\n",
       "    .dataframe tbody tr th {\n",
       "        vertical-align: top;\n",
       "    }\n",
       "\n",
       "    .dataframe thead th {\n",
       "        text-align: right;\n",
       "    }\n",
       "</style>\n",
       "<table border=\"1\" class=\"dataframe\">\n",
       "  <thead>\n",
       "    <tr style=\"text-align: right;\">\n",
       "      <th></th>\n",
       "      <th>ORI</th>\n",
       "      <th>POPULATION</th>\n",
       "      <th>VIOLENT CRIME</th>\n",
       "      <th>PROPERTY CRIME</th>\n",
       "      <th>MURDER</th>\n",
       "      <th>RAPE</th>\n",
       "      <th>ROBBERY</th>\n",
       "      <th>AGGRAVATED ASSAULT</th>\n",
       "      <th>BURGLARY</th>\n",
       "      <th>LARCENY</th>\n",
       "      <th>MTR VEHICLE THEFT</th>\n",
       "      <th>ARSON</th>\n",
       "      <th>TOTALS</th>\n",
       "    </tr>\n",
       "    <tr>\n",
       "      <th>AGENCY NAME</th>\n",
       "      <th></th>\n",
       "      <th></th>\n",
       "      <th></th>\n",
       "      <th></th>\n",
       "      <th></th>\n",
       "      <th></th>\n",
       "      <th></th>\n",
       "      <th></th>\n",
       "      <th></th>\n",
       "      <th></th>\n",
       "      <th></th>\n",
       "      <th></th>\n",
       "      <th></th>\n",
       "    </tr>\n",
       "  </thead>\n",
       "  <tbody>\n",
       "    <tr>\n",
       "      <th>PARMA</th>\n",
       "      <td>OH01842</td>\n",
       "      <td>79340</td>\n",
       "      <td>141</td>\n",
       "      <td>906</td>\n",
       "      <td>0.0</td>\n",
       "      <td>39</td>\n",
       "      <td>37</td>\n",
       "      <td>65</td>\n",
       "      <td>199</td>\n",
       "      <td>633</td>\n",
       "      <td>74</td>\n",
       "      <td>2</td>\n",
       "      <td>2096.0</td>\n",
       "    </tr>\n",
       "  </tbody>\n",
       "</table>\n",
       "</div>"
      ],
      "text/plain": [
       "                 ORI  POPULATION  VIOLENT CRIME  PROPERTY CRIME  MURDER  RAPE  \\\n",
       "AGENCY NAME                                                                     \n",
       "PARMA        OH01842       79340            141             906     0.0    39   \n",
       "\n",
       "             ROBBERY  AGGRAVATED ASSAULT  BURGLARY  LARCENY  \\\n",
       "AGENCY NAME                                                   \n",
       "PARMA             37                  65       199      633   \n",
       "\n",
       "             MTR VEHICLE THEFT  ARSON  TOTALS  \n",
       "AGENCY NAME                                    \n",
       "PARMA                       74      2  2096.0  "
      ]
     },
     "execution_count": 48,
     "metadata": {},
     "output_type": "execute_result"
    }
   ],
   "source": [
    "#Use .loc for the index \n",
    "suburb_cuy_data=index_cuy_data.loc[[\"PARMA\", \"LAKEWOOD\", \"EUCLID\", \"STRONGSVILLE\", \"CLEVELAND HEIGHTS\", \"WESTLAKE\"]]\n",
    "suburb_cuy_data.head(1)"
   ]
  },
  {
   "cell_type": "code",
   "execution_count": 44,
   "metadata": {},
   "outputs": [
    {
     "data": {
      "text/plain": [
       "ORI                   OH01842OH01826OH01818OH01851OH01815OH01857\n",
       "POPULATION                                                298374\n",
       "VIOLENT CRIME                                                680\n",
       "PROPERTY CRIME                                              5469\n",
       "MURDER                                                        10\n",
       "RAPE                                                          89\n",
       "ROBBERY                                                      292\n",
       "AGGRAVATED ASSAULT                                           289\n",
       "BURGLARY                                                    1111\n",
       "LARCENY                                                     3936\n",
       "MTR VEHICLE THEFT                                            422\n",
       "ARSON                                                         14\n",
       "TOTALS                                                     12312\n",
       "dtype: object"
      ]
     },
     "execution_count": 44,
     "metadata": {},
     "output_type": "execute_result"
    }
   ],
   "source": [
    "#df.sum(axis = 0, skipna = True) \n",
    "suburb_cuy_data.sum(axis = 0, skipna = True) \n"
   ]
  },
  {
   "cell_type": "code",
   "execution_count": 49,
   "metadata": {},
   "outputs": [
    {
     "data": {
      "text/plain": [
       "Text(0, 0.5, 'Crime Totals')"
      ]
     },
     "execution_count": 49,
     "metadata": {},
     "output_type": "execute_result"
    },
    {
     "data": {
      "image/png": "[encoded data removed]",
      "text/plain": [
       "<Figure size 432x288 with 1 Axes>"
      ]
     },
     "metadata": {
      "needs_background": "light"
     },
     "output_type": "display_data"
    },
    {
     "data": {
      "image/png": "[encoded data removed]",
      "text/plain": [
       "<Figure size 432x288 with 1 Axes>"
      ]
     },
     "metadata": {
      "needs_background": "light"
     },
     "output_type": "display_data"
    }
   ],
   "source": [
    "\n",
    "plotdata = pd.DataFrame({\"Crime Totals\":[680, 5469, 10, 89, 292, 289, 1111, 3936, 422, 14]},\n",
    "                        index=[\"VIOLENT CRIME\", \"PROPERTY CRIME\", \"MURDER\", \"RAPE\", \"ROBBERY\", \n",
    "                               \"AGGRAVATED ASSAULT\", \"BURGLARY\", \"LARCENY\", \"MTR VEHICLE THEFT\", \"ARSON\"])            \n",
    " \n",
    "\n",
    "plotdata.reset_index().plot(x=\"index\", y=[\"Crime Totals\"], kind=\"bar\")\n",
    "plt.title(\"CRIME TYPE FOR TOP 6 SUBURBS BY POPULATION\")\n",
    "plt.xlabel(\"TYPE OF CRIME\")\n",
    "plt.ylabel(\"Totals\")\n",
    "\n",
    "\n",
    "\n",
    "plotdata = pd.DataFrame({\"Suburban Only\":[680, 5469, 10, 89, 292, 289, 1111, 3936, 422, 14], \n",
    "                        \"Cleveland\":[5999, 18944, 107, 497, 2697, 2698, 5853, 9696, 3395, 253]},\n",
    "                        index=[\"VIOLENT CRIME\", \"PROPERTY CRIME\", \"MURDER\", \"RAPE\", \"ROBBERY\", \n",
    "                               \"AGGRAVATED ASSAULT\", \"BURGLARY\", \"LARCENY\", \"MTR VEHICLE THEFT\", \"ARSON\"])            \n",
    " \n",
    "\n",
    "plotdata.reset_index().plot(x=\"index\", y=[\"Cleveland\", \"Suburban Only\"], kind=\"bar\")\n",
    "plt.title(\"Cleveland VS the Top 6 Suburbs by Population\")\n",
    "plt.xlabel(\"TYPE OF CRIME\")\n",
    "plt.ylabel(\"Crime Totals\")"
   ]
  },
  {
   "cell_type": "code",
   "execution_count": 39,
   "metadata": {},
   "outputs": [
    {
     "data": {
      "text/plain": [
       "Text(0, 0.5, 'Totals')"
      ]
     },
     "execution_count": 39,
     "metadata": {},
     "output_type": "execute_result"
    },
    {
     "data": {
      "image/png": "[encoded data removed]",
      "text/plain": [
       "<Figure size 432x288 with 1 Axes>"
      ]
     },
     "metadata": {
      "needs_background": "light"
     },
     "output_type": "display_data"
    }
   ],
   "source": [
    "#Prep data for bar plot using population and violent crime. Top 7 cities by Population\n",
    "#index_pop=[\"CLEVELAND\", \"PARMA\", \"LAKEWOOD\", \"EUCLID\", \"STRONGSVILLE\", \"CLEVELAND HEIGHTS\", \"WESTLAKE\"]\n",
    "#\"index_crime\"=[\"CLEVELAND\", \"PARMA\", \"LAKEWOOD\", \"EUCLID\", \"STRONGSVILLE\", \"CLEVELAND HEIGHTS\", \"WESTLAKE\", \"BROOKLYN\"]\n",
    "#\"city_crime_total\":[50139, 2096, 2551, 3146, 1740, 2021, 758, 1400]\n",
    "\n",
    "plotdata = pd.DataFrame({\"Population\":[385351, 79340, 50151, 47270, 44758, 44525, 32330, 10809], \n",
    "                        \"Crime Totals\":[50139, 2096, 2551, 3146, 1740, 2021, 758, 1400]},\n",
    "                        index=[\"CLEVELAND\", \"PARMA\", \"LAKEWOOD\", \"EUCLID\", \"STRONGSVILLE\", \"CLEVELAND HEIGHTS\", \"WESTLAKE\", \"BROOKLYN\"])\n",
    "\n",
    "plotdata.reset_index().plot(x=\"index\", y=[\"Population\", \"Crime Totals\"], kind=\"bar\")\n",
    "plt.title(\"Crime by Population vs Crime Totals\")\n",
    "plt.xlabel(\"Agency Name\")\n",
    "plt.ylabel(\"Totals\")"
   ]
  },
  {
   "cell_type": "code",
   "execution_count": 40,
   "metadata": {},
   "outputs": [
    {
     "data": {
      "text/plain": [
       "Text(0, 0.5, 'Totals')"
      ]
     },
     "execution_count": 40,
     "metadata": {},
     "output_type": "execute_result"
    },
    {
     "data": {
      "image/png": "[encoded data removed]",
      "text/plain": [
       "<Figure size 432x288 with 1 Axes>"
      ]
     },
     "metadata": {
      "needs_background": "light"
     },
     "output_type": "display_data"
    }
   ],
   "source": [
    "#Compare Westlake with Brooklyn.  Westlake=# 7 by Pop but low crime. Brooklyn=Top 7 by Crime Totals but lower population.\n",
    "\n",
    "plotdata = pd.DataFrame({\"Population\":[32330, 10809], \n",
    "                        \"Crime Totals\":[758, 1400]},\n",
    "                        index=[\"WESTLAKE\", \"BROOKLYN\"])\n",
    "\n",
    "plotdata.reset_index().plot(x=\"index\", y=[\"Population\", \"Crime Totals\"], kind=\"bar\")\n",
    "plt.title(\"Westlake and Brooklyn\")\n",
    "plt.xlabel(\"Agency Name\")\n",
    "plt.ylabel(\"Totals\")\n"
   ]
  },
  {
   "cell_type": "code",
   "execution_count": null,
   "metadata": {},
   "outputs": [],
   "source": []
  },
  {
   "cell_type": "code",
   "execution_count": null,
   "metadata": {},
   "outputs": [],
   "source": []
  },
  {
   "cell_type": "code",
   "execution_count": null,
   "metadata": {},
   "outputs": [],
   "source": [
    "asian=[]\n",
    "black=[]\n",
    "amer_ind=[]\n",
    "white=[]\n",
    "unknown=[]"
   ]
  },
  {
   "cell_type": "code",
   "execution_count": null,
   "metadata": {},
   "outputs": [],
   "source": [
    "#Get Violent crime data for Cle 2017\n",
    "url_race=f\"https://api.usa.gov/crime/fbi/sapi/api/nibrs/violent-crime/offender/agencies/OHCLP0000/race?api_key={fbi_key}\"\n",
    "response=requests.get(url_race).json()"
   ]
  },
  {
   "cell_type": "code",
   "execution_count": null,
   "metadata": {},
   "outputs": [],
   "source": [
    "#Get Asian count for violent crime in Cle\n",
    "asian.append(response[\"data\"][13][\"value\"])"
   ]
  },
  {
   "cell_type": "code",
   "execution_count": null,
   "metadata": {},
   "outputs": [],
   "source": [
    "#Get Black or African American count for violent crime in Cle\n",
    "black.append(response[\"data\"][43][\"value\"])"
   ]
  },
  {
   "cell_type": "code",
   "execution_count": null,
   "metadata": {},
   "outputs": [],
   "source": [
    "#Get American Indian count for violent crime in Cle\n",
    "amer_ind.append(response[\"data\"][58][\"value\"])"
   ]
  },
  {
   "cell_type": "code",
   "execution_count": null,
   "metadata": {},
   "outputs": [],
   "source": [
    "#Get White count for violent crime in Cle\n",
    "white.append(response[\"data\"][73][\"value\"])"
   ]
  },
  {
   "cell_type": "code",
   "execution_count": null,
   "metadata": {},
   "outputs": [],
   "source": [
    "#Get Unknown count for violent crime in Cle\n",
    "unknown.append(response[\"data\"][88][\"value\"])"
   ]
  },
  {
   "cell_type": "code",
   "execution_count": null,
   "metadata": {},
   "outputs": [],
   "source": [
    "#Get 2017 Property Crime data for Cle\n",
    "url_property=f\"https://api.usa.gov/crime/fbi/sapi/api/nibrs/property-crime/offender/agencies/OHCLP0000/race?api_key={fbi_key}\"\n",
    "response=requests.get(url_property).json()"
   ]
  },
  {
   "cell_type": "code",
   "execution_count": null,
   "metadata": {},
   "outputs": [],
   "source": [
    "#Get Asian count for property crime in Cle \n",
    "asian.append(response[\"data\"][13][\"value\"])"
   ]
  },
  {
   "cell_type": "code",
   "execution_count": null,
   "metadata": {},
   "outputs": [],
   "source": [
    "#Get Black or African American count for property crime in Cle\n",
    "black.append(response[\"data\"][43][\"value\"])"
   ]
  },
  {
   "cell_type": "code",
   "execution_count": null,
   "metadata": {},
   "outputs": [],
   "source": [
    "#Get American Indian count for property crime in Cle\n",
    "amer_ind.append(response[\"data\"][58][\"value\"])"
   ]
  },
  {
   "cell_type": "code",
   "execution_count": null,
   "metadata": {},
   "outputs": [],
   "source": [
    "#Get White count for property crime in Cle\n",
    "white.append(response[\"data\"][73][\"value\"])"
   ]
  },
  {
   "cell_type": "code",
   "execution_count": null,
   "metadata": {},
   "outputs": [],
   "source": [
    "#Get Unknown count for property crime in Cle\n",
    "unknown.append(response[\"data\"][88][\"value\"])"
   ]
  },
  {
   "cell_type": "code",
   "execution_count": null,
   "metadata": {},
   "outputs": [],
   "source": [
    "#Get 2017 Homicide data for Cle\n",
    "url_homicide=f\"https://api.usa.gov/crime/fbi/sapi/api/nibrs/homicide/offender/agencies/OHCLP0000/race?api_key={fbi_key}\"\n",
    "response=requests.get(url_homicide).json()"
   ]
  },
  {
   "cell_type": "code",
   "execution_count": null,
   "metadata": {},
   "outputs": [],
   "source": [
    "#Get Asian count for homicide crime in Cle \n",
    "asian.append(response[\"data\"][13][\"value\"])\n"
   ]
  },
  {
   "cell_type": "code",
   "execution_count": null,
   "metadata": {},
   "outputs": [],
   "source": [
    "#Get Black or African American count for homicide crime in Cle\n",
    "black.append(response[\"data\"][43][\"value\"])"
   ]
  },
  {
   "cell_type": "code",
   "execution_count": null,
   "metadata": {},
   "outputs": [],
   "source": [
    "#Get American Indian count for homicide crime in Cle\n",
    "amer_ind.append(response[\"data\"][58][\"value\"])"
   ]
  },
  {
   "cell_type": "code",
   "execution_count": null,
   "metadata": {},
   "outputs": [],
   "source": [
    "#Get White count for homicide crime in Cle\n",
    "white.append(response[\"data\"][73][\"value\"])"
   ]
  },
  {
   "cell_type": "code",
   "execution_count": null,
   "metadata": {},
   "outputs": [],
   "source": [
    "#Get Unknown count for homicide crime in Cle\n",
    "unknown.append(response[\"data\"][88][\"value\"])"
   ]
  },
  {
   "cell_type": "code",
   "execution_count": null,
   "metadata": {},
   "outputs": [],
   "source": [
    "#Get Rape data for Cle 2017\n",
    "url_rape=f\"https://api.usa.gov/crime/fbi/sapi/api/nibrs/rape/offender/agencies/OHCLP0000/race?api_key={fbi_key}\"\n",
    "response=requests.get(url_rape).json()\n"
   ]
  },
  {
   "cell_type": "code",
   "execution_count": null,
   "metadata": {},
   "outputs": [],
   "source": [
    "#Get Asian count for rape crime in Cle \n",
    "asian.append(response[\"data\"][13][\"value\"])\n"
   ]
  },
  {
   "cell_type": "code",
   "execution_count": null,
   "metadata": {},
   "outputs": [],
   "source": [
    "#Get Black or African American count for rape crime in Cle\n",
    "black.append(response[\"data\"][43][\"value\"])"
   ]
  },
  {
   "cell_type": "code",
   "execution_count": null,
   "metadata": {},
   "outputs": [],
   "source": [
    "#Get American Indian count for rape crime in Cle\n",
    "amer_ind.append(response[\"data\"][58][\"value\"])\n"
   ]
  },
  {
   "cell_type": "code",
   "execution_count": null,
   "metadata": {},
   "outputs": [],
   "source": [
    "#Get White count for rape crime in Cle\n",
    "white.append(response[\"data\"][73][\"value\"])"
   ]
  },
  {
   "cell_type": "code",
   "execution_count": null,
   "metadata": {},
   "outputs": [],
   "source": [
    "#Get Unknown count for rape crime in Cle\n",
    "unknown.append(response[\"data\"][88][\"value\"])"
   ]
  },
  {
   "cell_type": "code",
   "execution_count": null,
   "metadata": {},
   "outputs": [],
   "source": [
    "#Get Robbery data for Cle 2017\n",
    "url_robbery=f\"https://api.usa.gov/crime/fbi/sapi/api/nibrs/robbery/offender/agencies/OHCLP0000/race?api_key={fbi_key}\"\n",
    "response=requests.get(url_robbery).json()"
   ]
  },
  {
   "cell_type": "code",
   "execution_count": null,
   "metadata": {},
   "outputs": [],
   "source": [
    "#Get Asian count for robbery crime in Cle \n",
    "asian.append(response[\"data\"][13][\"value\"])\n"
   ]
  },
  {
   "cell_type": "code",
   "execution_count": null,
   "metadata": {},
   "outputs": [],
   "source": [
    "#Get Black or African American count for robbery crime in Cle\n",
    "black.append(response[\"data\"][43][\"value\"])"
   ]
  },
  {
   "cell_type": "code",
   "execution_count": null,
   "metadata": {},
   "outputs": [],
   "source": [
    "#Get American Indian count for robbery crime in Cle\n",
    "amer_ind.append(response[\"data\"][58][\"value\"])"
   ]
  },
  {
   "cell_type": "code",
   "execution_count": null,
   "metadata": {},
   "outputs": [],
   "source": [
    "#Get White count for robbery crime in Cle\n",
    "white.append(response[\"data\"][73][\"value\"])"
   ]
  },
  {
   "cell_type": "code",
   "execution_count": null,
   "metadata": {},
   "outputs": [],
   "source": [
    "#Get Unknown count for robbery crime in Cle\n",
    "unknown.append(response[\"data\"][88][\"value\"])"
   ]
  },
  {
   "cell_type": "code",
   "execution_count": null,
   "metadata": {},
   "outputs": [],
   "source": [
    "#Get Aggravated Assault data for Cle 2017\n",
    "url_agg_assault=f\"https://api.usa.gov/crime/fbi/sapi/api/nibrs/aggravated-assault/offender/agencies/OHCLP0000/race?api_key={fbi_key}\"\n",
    "response=requests.get(url_agg_assault).json()"
   ]
  },
  {
   "cell_type": "code",
   "execution_count": null,
   "metadata": {},
   "outputs": [],
   "source": [
    "#Get Asian count for aggravated assault crime in Cle \n",
    "asian.append(response[\"data\"][13][\"value\"])\n"
   ]
  },
  {
   "cell_type": "code",
   "execution_count": null,
   "metadata": {},
   "outputs": [],
   "source": [
    "#Get Black or African American count for aggravated assault crime in Cle\n",
    "black.append(response[\"data\"][43][\"value\"])"
   ]
  },
  {
   "cell_type": "code",
   "execution_count": null,
   "metadata": {},
   "outputs": [],
   "source": [
    "#Get American Indian count for aggravated assault crime in Cle\n",
    "amer_ind.append(response[\"data\"][58][\"value\"])"
   ]
  },
  {
   "cell_type": "code",
   "execution_count": null,
   "metadata": {},
   "outputs": [],
   "source": [
    "#Get White count for aggravated assault crime in Cle\n",
    "white.append(response[\"data\"][73][\"value\"])"
   ]
  },
  {
   "cell_type": "code",
   "execution_count": null,
   "metadata": {},
   "outputs": [],
   "source": [
    "#Get Unknown count for aggravated assault crime in Cle\n",
    "unknown.append(response[\"data\"][88][\"value\"])"
   ]
  },
  {
   "cell_type": "code",
   "execution_count": null,
   "metadata": {},
   "outputs": [],
   "source": [
    "#Get Arson data for Cle 2017\n",
    "url_arson=f\"https://api.usa.gov/crime/fbi/sapi/api/nibrs/arson/offender/agencies/OHCLP0000/race?api_key={fbi_key}\"\n",
    "response=requests.get(url_arson).json()"
   ]
  },
  {
   "cell_type": "code",
   "execution_count": null,
   "metadata": {},
   "outputs": [],
   "source": [
    "#Get Asian count for arson crime in Cle \n",
    "asian.append(response[\"data\"][13][\"value\"])\n"
   ]
  },
  {
   "cell_type": "code",
   "execution_count": null,
   "metadata": {},
   "outputs": [],
   "source": [
    "#Get Black or African American count for arson crime in Cle\n",
    "black.append(response[\"data\"][43][\"value\"])\n"
   ]
  },
  {
   "cell_type": "code",
   "execution_count": null,
   "metadata": {},
   "outputs": [],
   "source": [
    "#Get American Indian count for arson crime in Cle\n",
    "amer_ind.append(response[\"data\"][58][\"value\"])"
   ]
  },
  {
   "cell_type": "code",
   "execution_count": null,
   "metadata": {},
   "outputs": [],
   "source": [
    "#Get White count for arson crime in Cle\n",
    "white.append(response[\"data\"][73][\"value\"])"
   ]
  },
  {
   "cell_type": "code",
   "execution_count": null,
   "metadata": {},
   "outputs": [],
   "source": [
    "#Get Unknown count for arson crime in Cle\n",
    "unknown.append(response[\"data\"][88][\"value\"])"
   ]
  },
  {
   "cell_type": "code",
   "execution_count": null,
   "metadata": {},
   "outputs": [],
   "source": [
    "#Get Motor Vehicle Theft data for 2017\n",
    "url_car=f\"https://api.usa.gov/crime/fbi/sapi/api/nibrs/motor-vehicle-theft/offender/agencies/OHCLP0000/race?api_key={fbi_key}\"\n",
    "response=requests.get(url_car).json()"
   ]
  },
  {
   "cell_type": "code",
   "execution_count": null,
   "metadata": {},
   "outputs": [],
   "source": [
    "#Get Asian count for motor-vehicle-theft crime in Cle \n",
    "asian.append(response[\"data\"][13][\"value\"])\n"
   ]
  },
  {
   "cell_type": "code",
   "execution_count": null,
   "metadata": {},
   "outputs": [],
   "source": [
    "#Get Black or African American count for motor-vehicle-theft crime in Cle\n",
    "black.append(response[\"data\"][43][\"value\"])"
   ]
  },
  {
   "cell_type": "code",
   "execution_count": null,
   "metadata": {},
   "outputs": [],
   "source": [
    "#Get American Indian count for motor-vehicle-theft crime in Cle\n",
    "amer_ind.append(response[\"data\"][58][\"value\"])\n"
   ]
  },
  {
   "cell_type": "code",
   "execution_count": null,
   "metadata": {},
   "outputs": [],
   "source": [
    "#Get White count for robbery motor-vehicle-theft in Cle\n",
    "white.append(response[\"data\"][73][\"value\"])"
   ]
  },
  {
   "cell_type": "code",
   "execution_count": null,
   "metadata": {},
   "outputs": [],
   "source": [
    "#Get Unknown count for robbery motor-vehicle-theft in Cle\n",
    "unknown.append(response[\"data\"][88][\"value\"])"
   ]
  },
  {
   "cell_type": "code",
   "execution_count": null,
   "metadata": {},
   "outputs": [],
   "source": [
    "#Get Burlary data for Cle 2017\n",
    "url_burglary=f\"https://api.usa.gov/crime/fbi/sapi/api/nibrs/burglary/offender/agencies/OHCLP0000/race?api_key={fbi_key}\"\n",
    "response=requests.get(url_burglary).json()"
   ]
  },
  {
   "cell_type": "code",
   "execution_count": null,
   "metadata": {},
   "outputs": [],
   "source": [
    "#Get Asian count for burglary crime in Cle \n",
    "asian.append(response[\"data\"][13][\"value\"])"
   ]
  },
  {
   "cell_type": "code",
   "execution_count": null,
   "metadata": {},
   "outputs": [],
   "source": [
    "#Get Black or African American count for burglary crime in Cle\n",
    "black.append(response[\"data\"][43][\"value\"])"
   ]
  },
  {
   "cell_type": "code",
   "execution_count": null,
   "metadata": {},
   "outputs": [],
   "source": [
    "#Get American Indian count for burglary crime in Cle\n",
    "amer_ind.append(response[\"data\"][58][\"value\"])"
   ]
  },
  {
   "cell_type": "code",
   "execution_count": null,
   "metadata": {},
   "outputs": [],
   "source": [
    "#Get White count for burglary crime in Cle\n",
    "white.append(response[\"data\"][73][\"value\"])"
   ]
  },
  {
   "cell_type": "code",
   "execution_count": null,
   "metadata": {},
   "outputs": [],
   "source": [
    "#Get Unknown count for burglary crime in Cle\n",
    "unknown.append(response[\"data\"][88][\"value\"])"
   ]
  },
  {
   "cell_type": "code",
   "execution_count": null,
   "metadata": {},
   "outputs": [],
   "source": [
    "#Get Larceny data for Cle 2017\n",
    "url_larceny=f\"https://api.usa.gov/crime/fbi/sapi/api/nibrs/larceny/offender/agencies/OHCLP0000/race?api_key={fbi_key}\"\n",
    "response=requests.get(url_larceny).json()"
   ]
  },
  {
   "cell_type": "code",
   "execution_count": null,
   "metadata": {},
   "outputs": [],
   "source": [
    "#Get Asian count for larceny crime in Cle \n",
    "asian.append(response[\"data\"][13][\"value\"])"
   ]
  },
  {
   "cell_type": "code",
   "execution_count": null,
   "metadata": {},
   "outputs": [],
   "source": [
    "#Get Black or African American count for larceny crime in Cle\n",
    "black.append(response[\"data\"][43][\"value\"])"
   ]
  },
  {
   "cell_type": "code",
   "execution_count": null,
   "metadata": {},
   "outputs": [],
   "source": [
    "#Get American Indian count for larceny crime in Cle\n",
    "amer_ind.append(response[\"data\"][58][\"value\"])"
   ]
  },
  {
   "cell_type": "code",
   "execution_count": null,
   "metadata": {},
   "outputs": [],
   "source": [
    "#Get White count for larceny crime in Cle\n",
    "white.append(response[\"data\"][73][\"value\"])"
   ]
  },
  {
   "cell_type": "code",
   "execution_count": null,
   "metadata": {},
   "outputs": [],
   "source": [
    "#Get Unknown count for larceny crime in Cle\n",
    "unknown.append(response[\"data\"][88][\"value\"])"
   ]
  },
  {
   "cell_type": "code",
   "execution_count": null,
   "metadata": {},
   "outputs": [],
   "source": [
    "#Make crime list for Race DataFrame\n",
    "crimes=[\"Violent Crime\", \"Property Crime\", \"Homicide\", \"Rape\", \"Robbery\", \"Aggravated Assault\",\n",
    "       \"Arson\", \"Motor Vehicle Theft\", \"Burglary\", \"Larceny\"]"
   ]
  },
  {
   "cell_type": "code",
   "execution_count": null,
   "metadata": {},
   "outputs": [],
   "source": [
    "#Make Dataframe for Race Count\n",
    "race_data= { \"Crimes\": crimes,\n",
    "           \"Asian Count\": asian,\n",
    "           \"Black Count\": black,\n",
    "           \"American Indian Count\": amer_ind,\n",
    "           \"White Count\": white,\n",
    "           \"Unknown Race\": unknown}\n",
    "\n",
    "race_data_df = pd.DataFrame(race_data)\n",
    "race_data_df\n"
   ]
  },
  {
   "cell_type": "code",
   "execution_count": null,
   "metadata": {
    "tags": []
   },
   "outputs": [],
   "source": [
    "#Crimes by age pulling from api\n",
    "url_agevc =f\"https://api.usa.gov/crime/fbi/sapi//api/nibrs/violent-crime/offender/agencies/OHCLP0000/age?api_key={fbi_key}\"\n",
    "response=requests.get(url_agevc).json()\n",
    "print(json.dumps(response, indent=4, sort_keys=True))"
   ]
  },
  {
   "cell_type": "code",
   "execution_count": null,
   "metadata": {},
   "outputs": [],
   "source": [
    "#2017 violent crimes by age\n",
    "vc_age0_9 = response[\"data\"][13][\"value\"]\n",
    "vc_age10_19 = response[\"data\"][28][\"value\"]\n",
    "vc_age20_29 = response[\"data\"][43][\"value\"]\n",
    "vc_age30_39 = response[\"data\"][58][\"value\"]\n",
    "vc_age40_49 = response[\"data\"][73][\"value\"]\n",
    "vc_age50_59 = response[\"data\"][88][\"value\"]\n",
    "vc_age60_69 = response[\"data\"][103][\"value\"]\n",
    "vc_age70_79 = response[\"data\"][118][\"value\"]\n",
    "vc_age80_89 = response[\"data\"][133][\"value\"]\n",
    "vc_age90_Older = response[\"data\"][148][\"value\"]\n",
    "\n",
    "vc_list = [vc_age0_9, vc_age10_19, vc_age20_29, vc_age30_39, vc_age40_49, vc_age50_59, vc_age60_69, vc_age70_79, vc_age80_89, vc_age90_Older]"
   ]
  },
  {
   "cell_type": "code",
   "execution_count": null,
   "metadata": {},
   "outputs": [],
   "source": [
    "#2017 property crimes by age\n",
    "url_agepc =f\"https://api.usa.gov/crime/fbi/sapi//api/nibrs/property-crime/offender/agencies/OHCLP0000/age?api_key={fbi_key}\"\n",
    "response=requests.get(url_agepc).json()\n",
    "\n",
    "pc_age0_9 = response[\"data\"][13][\"value\"]\n",
    "pc_age10_19 = response[\"data\"][28][\"value\"]\n",
    "pc_age20_29 = response[\"data\"][43][\"value\"]\n",
    "pc_age30_39 = response[\"data\"][58][\"value\"]\n",
    "pc_age40_49 = response[\"data\"][73][\"value\"]\n",
    "pc_age50_59 = response[\"data\"][88][\"value\"]\n",
    "pc_age60_69 = response[\"data\"][103][\"value\"]\n",
    "pc_age70_79 = response[\"data\"][118][\"value\"]\n",
    "pc_age80_89 = response[\"data\"][133][\"value\"]\n",
    "pc_age90_Older = response[\"data\"][148][\"value\"]\n",
    "pc_list = [pc_age0_9, pc_age10_19, pc_age20_29, pc_age30_39, pc_age40_49, pc_age50_59, pc_age60_69, pc_age70_79, pc_age80_89, pc_age90_Older]"
   ]
  },
  {
   "cell_type": "code",
   "execution_count": null,
   "metadata": {},
   "outputs": [],
   "source": [
    "#2017 aggravated assault by age\n",
    "url_ageaa = f\"https://api.usa.gov/crime/fbi/sapi//api/nibrs/aggravated-assault/offender/agencies/OHCLP0000/age?api_key={fbi_key}\"\n",
    "response=requests.get(url_ageaa).json()\n",
    "\n",
    "aa_age0_9 = response[\"data\"][13][\"value\"]\n",
    "aa_age10_19 = response[\"data\"][28][\"value\"]\n",
    "aa_age20_29 = response[\"data\"][43][\"value\"]\n",
    "aa_age30_39 = response[\"data\"][58][\"value\"]\n",
    "aa_age40_49 = response[\"data\"][73][\"value\"]\n",
    "aa_age50_59 = response[\"data\"][88][\"value\"]\n",
    "aa_age60_69 = response[\"data\"][103][\"value\"]\n",
    "aa_age70_79 = response[\"data\"][118][\"value\"]\n",
    "aa_age80_89 = response[\"data\"][133][\"value\"]\n",
    "aa_age90_Older = response[\"data\"][148][\"value\"]\n",
    "aa_list = [aa_age0_9, aa_age10_19, aa_age20_29, aa_age30_39, aa_age40_49, aa_age50_59, aa_age60_69, aa_age70_79, aa_age80_89, aa_age90_Older]"
   ]
  },
  {
   "cell_type": "code",
   "execution_count": null,
   "metadata": {},
   "outputs": [],
   "source": [
    "#2017 burglary by age\n",
    "url_ageburglary = f\"https://api.usa.gov/crime/fbi/sapi//api/nibrs/burglary/offender/agencies/OHCLP0000/age?api_key={fbi_key}\"\n",
    "response=requests.get(url_ageburglary).json()\n",
    "burglary_age0_9 = response[\"data\"][13][\"value\"]\n",
    "burglary_age10_19 = response[\"data\"][28][\"value\"]\n",
    "burglary_age20_29 = response[\"data\"][43][\"value\"]\n",
    "burglary_age30_39 = response[\"data\"][58][\"value\"]\n",
    "burglary_age40_49 = response[\"data\"][73][\"value\"]\n",
    "burglary_age50_59 = response[\"data\"][88][\"value\"]\n",
    "burglary_age60_69 = response[\"data\"][103][\"value\"]\n",
    "burglary_age70_79 = response[\"data\"][118][\"value\"]\n",
    "burglary_age80_89 = response[\"data\"][133][\"value\"]\n",
    "burglary_age90_Older = response[\"data\"][148][\"value\"]\n",
    "burglary_list = [burglary_age0_9, burglary_age10_19, burglary_age20_29, burglary_age30_39, burglary_age40_49, burglary_age50_59, burglary_age60_69, burglary_age70_79, burglary_age80_89, burglary_age90_Older]\n"
   ]
  },
  {
   "cell_type": "code",
   "execution_count": null,
   "metadata": {},
   "outputs": [],
   "source": [
    "#2017 larceny by age\n",
    "url_agelarceny = f\"https://api.usa.gov/crime/fbi/sapi//api/nibrs/larceny/offender/agencies/OHCLP0000/age?api_key={fbi_key}\"\n",
    "response=requests.get(url_agelarceny).json()\n",
    "larceny_age0_9 = response[\"data\"][13][\"value\"]\n",
    "larceny_age10_19 = response[\"data\"][28][\"value\"]\n",
    "larceny_age20_29 = response[\"data\"][43][\"value\"]\n",
    "larceny_age30_39 = response[\"data\"][58][\"value\"]\n",
    "larceny_age40_49 = response[\"data\"][73][\"value\"]\n",
    "larceny_age50_59 = response[\"data\"][88][\"value\"]\n",
    "larceny_age60_69 = response[\"data\"][103][\"value\"]\n",
    "larceny_age70_79 = response[\"data\"][118][\"value\"]\n",
    "larceny_age80_89 = response[\"data\"][133][\"value\"]\n",
    "larceny_age90_Older = response[\"data\"][148][\"value\"]\n",
    "larceny_list = [larceny_age0_9, larceny_age10_19, larceny_age20_29, larceny_age30_39, larceny_age40_49, larceny_age50_59, larceny_age60_69, larceny_age70_79, larceny_age80_89, larceny_age90_Older]\n"
   ]
  },
  {
   "cell_type": "code",
   "execution_count": null,
   "metadata": {},
   "outputs": [],
   "source": [
    "#2017 mvt by age\n",
    "url_agemvt = f\"https://api.usa.gov/crime/fbi/sapi//api/nibrs/motor-vehicle-theft/offender/agencies/OHCLP0000/age?api_key={fbi_key}\"\n",
    "response=requests.get(url_agemvt).json()\n",
    "mvt_age0_9 = response[\"data\"][13][\"value\"]\n",
    "mvt_age10_19 = response[\"data\"][28][\"value\"]\n",
    "mvt_age20_29 = response[\"data\"][43][\"value\"]\n",
    "mvt_age30_39 = response[\"data\"][58][\"value\"]\n",
    "mvt_age40_49 = response[\"data\"][73][\"value\"]\n",
    "mvt_age50_59 = response[\"data\"][88][\"value\"]\n",
    "mvt_age60_69 = response[\"data\"][103][\"value\"]\n",
    "mvt_age70_79 = response[\"data\"][118][\"value\"]\n",
    "mvt_age80_89 = response[\"data\"][133][\"value\"]\n",
    "mvt_age90_Older = response[\"data\"][148][\"value\"]\n",
    "mvt_list = [mvt_age0_9, mvt_age10_19, mvt_age20_29, mvt_age30_39, mvt_age40_49, mvt_age50_59, mvt_age60_69, mvt_age70_79, mvt_age80_89, mvt_age90_Older]"
   ]
  },
  {
   "cell_type": "code",
   "execution_count": null,
   "metadata": {},
   "outputs": [],
   "source": [
    "#2017 homicide by age\n",
    "url_agehomicide = f\"https://api.usa.gov/crime/fbi/sapi//api/nibrs/homicide/offender/agencies/OHCLP0000/age?api_key={fbi_key}\"\n",
    "response=requests.get(url_agehomicide).json()\n",
    "homicide_age0_9 = response[\"data\"][13][\"value\"]\n",
    "homicide_age10_19 = response[\"data\"][28][\"value\"]\n",
    "homicide_age20_29 = response[\"data\"][43][\"value\"]\n",
    "homicide_age30_39 = response[\"data\"][58][\"value\"]\n",
    "homicide_age40_49 = response[\"data\"][73][\"value\"]\n",
    "homicide_age50_59 = response[\"data\"][88][\"value\"]\n",
    "homicide_age60_69 = response[\"data\"][103][\"value\"]\n",
    "homicide_age70_79 = response[\"data\"][118][\"value\"]\n",
    "homicide_age80_89 = response[\"data\"][133][\"value\"]\n",
    "homicide_age90_Older = response[\"data\"][148][\"value\"]\n",
    "homicide_list = [homicide_age0_9, homicide_age10_19, homicide_age20_29, homicide_age30_39, homicide_age40_49, homicide_age50_59, homicide_age60_69, homicide_age70_79, homicide_age80_89, homicide_age90_Older]"
   ]
  },
  {
   "cell_type": "code",
   "execution_count": null,
   "metadata": {},
   "outputs": [],
   "source": [
    "#2017 rape by age\n",
    "url_agerape = f\"https://api.usa.gov/crime/fbi/sapi//api/nibrs/rape/offender/agencies/OHCLP0000/age?api_key={fbi_key}\"\n",
    "response=requests.get(url_agerape).json()\n",
    "rape_age0_9 = response[\"data\"][13][\"value\"]\n",
    "rape_age10_19 = response[\"data\"][28][\"value\"]\n",
    "rape_age20_29 = response[\"data\"][43][\"value\"]\n",
    "rape_age30_39 = response[\"data\"][58][\"value\"]\n",
    "rape_age40_49 = response[\"data\"][73][\"value\"]\n",
    "rape_age50_59 = response[\"data\"][88][\"value\"]\n",
    "rape_age60_69 = response[\"data\"][103][\"value\"]\n",
    "rape_age70_79 = response[\"data\"][118][\"value\"]\n",
    "rape_age80_89 = response[\"data\"][133][\"value\"]\n",
    "rape_age90_Older = response[\"data\"][148][\"value\"]\n",
    "\n",
    "rape_list = [rape_age0_9, rape_age10_19, rape_age20_29, rape_age30_39, rape_age40_49, rape_age50_59, rape_age60_69, rape_age70_79, rape_age80_89, rape_age90_Older]"
   ]
  },
  {
   "cell_type": "code",
   "execution_count": null,
   "metadata": {},
   "outputs": [],
   "source": [
    "#2017 robbery by age\n",
    "url_agerobbery = f\"https://api.usa.gov/crime/fbi/sapi//api/nibrs/robbery/offender/agencies/OHCLP0000/age?api_key={fbi_key}\"\n",
    "response=requests.get(url_agerobbery).json()\n",
    "robbery_age0_9 = response[\"data\"][13][\"value\"]\n",
    "robbery_age10_19 = response[\"data\"][28][\"value\"]\n",
    "robbery_age20_29 = response[\"data\"][43][\"value\"]\n",
    "robbery_age30_39 = response[\"data\"][58][\"value\"]\n",
    "robbery_age40_49 = response[\"data\"][73][\"value\"]\n",
    "robbery_age50_59 = response[\"data\"][88][\"value\"]\n",
    "robbery_age60_69 = response[\"data\"][103][\"value\"]\n",
    "robbery_age70_79 = response[\"data\"][118][\"value\"]\n",
    "robbery_age80_89 = response[\"data\"][133][\"value\"]\n",
    "robbery_age90_Older = response[\"data\"][148][\"value\"]\n",
    "robbery_list = [robbery_age0_9, robbery_age10_19, robbery_age20_29, robbery_age30_39, robbery_age40_49, robbery_age50_59, robbery_age60_69, robbery_age70_79, robbery_age80_89, robbery_age90_Older]\n"
   ]
  },
  {
   "cell_type": "code",
   "execution_count": null,
   "metadata": {},
   "outputs": [],
   "source": [
    "#2017 arson by age\n",
    "url_agearson = f\"https://api.usa.gov/crime/fbi/sapi//api/nibrs/arson/offender/agencies/OHCLP0000/age?api_key={fbi_key}\"\n",
    "response=requests.get(url_agearson).json()\n",
    "arson_age50_59 = response[\"data\"][88][\"value\"]\n",
    "arson_age60_69 = response[\"data\"][103][\"value\"]\n",
    "arson_age70_79 = response[\"data\"][118][\"value\"]\n",
    "arson_age0_9 = response[\"data\"][13][\"value\"]\n",
    "arson_age10_19 = response[\"data\"][28][\"value\"]\n",
    "arson_age20_29 = response[\"data\"][43][\"value\"]\n",
    "arson_age30_39 = response[\"data\"][58][\"value\"]\n",
    "arson_age40_49 = response[\"data\"][73][\"value\"]\n",
    "arson_age80_89 = response[\"data\"][133][\"value\"]\n",
    "arson_age90_Older = response[\"data\"][148][\"value\"]\n",
    "arson_list = [arson_age0_9, arson_age10_19, arson_age20_29, arson_age30_39, arson_age40_49, arson_age50_59, arson_age60_69, arson_age70_79, arson_age80_89, arson_age90_Older]\n"
   ]
  },
  {
   "cell_type": "code",
   "execution_count": null,
   "metadata": {},
   "outputs": [],
   "source": [
    "#create dataframe for age data\n",
    "age_list= ['0-9', '10-19', '20-29', '30-39', '40-49', '50-59', '60-69', '70-79', '80-89', '90-Older', 'unknown']\n",
    "cle2017_crime_age_df = pd.DataFrame(list(zip(age_list, vc_list, pc_list, aa_list, burglary_list, larceny_list, mvt_list, homicide_list ,rape_list, robbery_list, arson_list)),columns=[\"Age Groups\", \"Violent-Crime\", \"Property-Crime\", \"Aggravated-Assault\", \"Burglary\", \"Larceny\", \"Motor-Vehicle-Theft\", \"Homicide\", \"Rape\", \"Robbery\", \"Arson\"])\n",
    "cle2017_crime_age_df\n"
   ]
  },
  {
   "cell_type": "code",
   "execution_count": null,
   "metadata": {},
   "outputs": [],
   "source": [
    "# Change rows and columns to more easily develop graphs\n",
    "Graph_race = pd.DataFrame.transpose(race_data_df)\n",
    "Graph_race = Graph_race.drop(['Crimes'])\n",
    "Graph_race"
   ]
  },
  {
   "cell_type": "code",
   "execution_count": null,
   "metadata": {},
   "outputs": [],
   "source": [
    "# Creaate violent crime bar graph - Race\n",
    "violent_crime = Graph_race.loc[:,0]\n",
    "\n",
    "# Set x and y values\n",
    "y_axis = [Graph_race.loc[:,0]]\n",
    "x_axis = Graph_race.index\n",
    "\n",
    "# Set ticks\n",
    "ticks = 20, 200, 400, 1000, 1400, 1800, 2200, 2600, 3000, 3400, 3800, 4000\n",
    "plt.yticks(ticks=ticks, labels=None)\n",
    "\n",
    "# Set type\n",
    "violent_crime.plot(kind='bar', facecolor='lightpink', figsize=(5,30\n",
    "))\n",
    "\n",
    "# Format\n",
    "plt.xlabel('Race')\n",
    "plt.ylabel('Number of Violent Crimes')\n",
    "plt.title('Violent Crimes Committed per Race')\n",
    "plt.show()"
   ]
  },
  {
   "cell_type": "code",
   "execution_count": null,
   "metadata": {},
   "outputs": [],
   "source": [
    "# Creaate property crime bar graph - Race\n",
    "property_crime = Graph_race.loc[:,1]\n",
    "\n",
    "# Set x and y values\n",
    "y_axis = [Graph_race.loc[:,1]]\n",
    "x_axis = Graph_race.index\n",
    "\n",
    "# Set ticks\n",
    "ticks = 50, 500, 1000, 1500, 2000, 2500, 3000, 3500, 4000, 4500, 5000\n",
    "plt.yticks(ticks=ticks, labels=None)\n",
    "\n",
    "# Set type\n",
    "property_crime.plot(kind='bar', facecolor='lightpink', figsize=(5,30\n",
    "))\n",
    "\n",
    "# Format\n",
    "plt.xlabel('Race')\n",
    "plt.ylabel('Number of Property Crimes')\n",
    "plt.title('Property Crimes Committed per Race')\n",
    "plt.show()"
   ]
  },
  {
   "cell_type": "code",
   "execution_count": null,
   "metadata": {},
   "outputs": [],
   "source": [
    "# Creaate homicide bar graph - Race\n",
    "homicide_crime = Graph_race.loc[:,2]\n",
    "\n",
    "# Set x and y values\n",
    "y_axis = [Graph_race.loc[:,2]]\n",
    "x_axis = Graph_race.index\n",
    "\n",
    "# Set ticks\n",
    "ticks = 20, 40, 60, 80\n",
    "plt.yticks(ticks=ticks, labels=None)\n",
    "\n",
    "# Set type\n",
    "homicide_crime.plot(kind='bar', facecolor='lightpink', figsize=(10,5\n",
    "))\n",
    "\n",
    "# Format\n",
    "plt.xlabel('Race')\n",
    "plt.ylabel('Number of Homicides')\n",
    "plt.title('Homicides Committed per Race')\n",
    "plt.show()"
   ]
  },
  {
   "cell_type": "code",
   "execution_count": null,
   "metadata": {},
   "outputs": [],
   "source": [
    "# Create rape bar graph - Race\n",
    "Rape_crime = Graph_race.loc[:,3]\n",
    "\n",
    "# Set x and y values\n",
    "y_axis = [Graph_race.loc[:,3]]\n",
    "x_axis = Graph_race.index\n",
    "\n",
    "# Set ticks\n",
    "ticks = 50, 100, 150, 200, 250, 300, 350, 400\n",
    "plt.yticks(ticks=ticks, labels=None)\n",
    "\n",
    "# Set type\n",
    "Rape_crime.plot(kind='bar', facecolor='lightpink', figsize=(5,5\n",
    "))\n",
    "\n",
    "# Format\n",
    "plt.xlabel('Race')\n",
    "plt.ylabel('Number of Rapes')\n",
    "plt.title('Rapes Committed per Race')\n",
    "plt.show()"
   ]
  },
  {
   "cell_type": "code",
   "execution_count": null,
   "metadata": {},
   "outputs": [],
   "source": [
    "# Create robbery bar graph - Race\n",
    "Robbery_crime = Graph_race.loc[:,4]\n",
    "\n",
    "# Set x and y values\n",
    "y_axis = [Graph_race.loc[:,4]]\n",
    "x_axis = Graph_race.index\n",
    "\n",
    "# Set ticks\n",
    "ticks = 100, 200, 300, 500, 1500, 2000, 2500\n",
    "plt.yticks(ticks=ticks, labels=None)\n",
    "\n",
    "# Set type\n",
    "Robbery_crime.plot(kind='bar', facecolor='lightpink', figsize=(5,10\n",
    "))\n",
    "\n",
    "# Format\n",
    "plt.xlabel('Race')\n",
    "plt.ylabel('Number of Robberies')\n",
    "plt.title('Robberies Committed per Race')\n",
    "plt.show()"
   ]
  },
  {
   "cell_type": "code",
   "execution_count": null,
   "metadata": {},
   "outputs": [],
   "source": [
    "# Create aggravated assault bar graph - Race\n",
    "aggravated_assault = Graph_race.loc[:,5]\n",
    "\n",
    "# Set x and y values\n",
    "y_axis = [Graph_race.loc[:,5]]\n",
    "x_axis = Graph_race.index\n",
    "\n",
    "# Set ticks\n",
    "ticks = 20, 200, 400, 600, 1200, 1500\n",
    "plt.yticks(ticks=ticks, labels=None)\n",
    "\n",
    "# Set type\n",
    "aggravated_assault.plot(kind='bar', facecolor='lightpink', figsize=(5,10\n",
    "))\n",
    "\n",
    "# Format\n",
    "plt.xlabel('Race')\n",
    "plt.ylabel('Number of Aggravated Assaults')\n",
    "plt.title('Aggravated Assaults Committed per Race')\n",
    "plt.show()"
   ]
  },
  {
   "cell_type": "code",
   "execution_count": null,
   "metadata": {},
   "outputs": [],
   "source": [
    "# Create arson bar graph - Race\n",
    "arson = Graph_race.loc[:,6]\n",
    "\n",
    "# Set x and y values\n",
    "y_axis = [Graph_race.loc[:,6]]\n",
    "x_axis = Graph_race.index\n",
    "\n",
    "# Set ticks\n",
    "ticks = 10, 20, 30, 40, 50\n",
    "plt.yticks(ticks=ticks, labels=None)\n",
    "\n",
    "# Set type\n",
    "arson.plot(kind='bar', facecolor='lightpink', figsize=(5,10\n",
    "))\n",
    "\n",
    "# Format\n",
    "plt.xlabel('Race')\n",
    "plt.ylabel('Number of Arsons')\n",
    "plt.title('Arsons Committed per Race')\n",
    "plt.show()"
   ]
  },
  {
   "cell_type": "code",
   "execution_count": null,
   "metadata": {},
   "outputs": [],
   "source": [
    "# Create motor vehicle theft bar graph - Race\n",
    "mv_theft = Graph_race.loc[:,7]\n",
    "\n",
    "# Set x and y values\n",
    "y_axis = [Graph_race.loc[:,7]]\n",
    "x_axis = Graph_race.index\n",
    "\n",
    "# Set ticks\n",
    "ticks = 50, 100, 150, 200, 250, 300, 350, 400, 450, 5000, 550, 600, 650\n",
    "plt.yticks(ticks=ticks, labels=None)\n",
    "\n",
    "# Set type\n",
    "mv_theft.plot(kind='bar', facecolor='lightpink', figsize=(5,10\n",
    "))\n",
    "\n",
    "# Format\n",
    "plt.xlabel('Race')\n",
    "plt.ylabel('Number of Motor Vehicle Thefts')\n",
    "plt.title('Motor Vehicle Thefts Committed per Race')\n",
    "plt.show()"
   ]
  },
  {
   "cell_type": "code",
   "execution_count": null,
   "metadata": {},
   "outputs": [],
   "source": [
    "# Create Burglary bar graph - Race\n",
    "Burglary = Graph_race.loc[:,8]\n",
    "\n",
    "# Set x and y values\n",
    "y_axis = [Graph_race.loc[:,8]]\n",
    "x_axis = Graph_race.index\n",
    "\n",
    "# Set ticks\n",
    "ticks = 50, 150, 300, 450, 600, 750, 900, 1050, 1300, \n",
    "plt.yticks(ticks=ticks, labels=None)\n",
    "\n",
    "# Set type\n",
    "Burglary.plot(kind='bar', facecolor='lightpink', figsize=(5,20\n",
    "))\n",
    "\n",
    "# Format\n",
    "plt.xlabel('Race')\n",
    "plt.ylabel('Number of Burglaries')\n",
    "plt.title('Burglaries Committed per Race')\n",
    "plt.show()"
   ]
  },
  {
   "cell_type": "code",
   "execution_count": null,
   "metadata": {},
   "outputs": [],
   "source": [
    "# Create Larceny bar graph - Race\n",
    "larceny = Graph_race.loc[:,9]\n",
    "\n",
    "# Set x and y values\n",
    "y_axis = [Graph_race.loc[:,9]]\n",
    "x_axis = Graph_race.index\n",
    "\n",
    "# Set ticks\n",
    "ticks = 50, 150, 300, 450, 600, 750, 900, 1050, 1300, 1450, 1600, 1750, 1900, 2050, 2300, 2450, 2600, 2700, 2900\n",
    "plt.yticks(ticks=ticks, labels=None)\n",
    "\n",
    "# Set type\n",
    "larceny.plot(kind='bar', facecolor='lightpink', figsize=(5,10\n",
    "))\n",
    "\n",
    "# Format\n",
    "plt.xlabel('Race')\n",
    "plt.ylabel('Number of Larceny Committed')\n",
    "plt.title('Larceny Committed per Race')\n",
    "plt.show()"
   ]
  },
  {
   "cell_type": "code",
   "execution_count": null,
   "metadata": {},
   "outputs": [],
   "source": [
    "# Create bar graph for violent crime - age\n",
    "\n",
    "# Axes\n",
    "violent = [4, 21, 17, 11, 7, 9, 3, 1, 0, 0]\n",
    "x_axis = cle2017_crime_age_df['Age Groups']\n",
    "tick_locations = [value for value in x_axis]\n",
    "\n",
    "\n",
    "# Graph Format\n",
    "plt.bar(x_axis, violent, color='green', alpha=0.5, align=\"center\")\n",
    "plt.xlabel('Age Groups')\n",
    "plt.ylabel('Number of Violent Crimes')\n",
    "plt.title('Violent Crimes Committed per Age Group')\n",
    "plt.xticks(rotation='vertical')\n"
   ]
  },
  {
   "cell_type": "code",
   "execution_count": null,
   "metadata": {},
   "outputs": [],
   "source": [
    "# Create bar graph for property crime - age\n",
    "\n",
    "# Axes\n",
    "property = [58, 1025, 1823, 1315, 753, 553, 121, 13, 3, 3]\n",
    "x_axis = cle2017_crime_age_df['Age Groups']\n",
    "tick_locations = [value for value in x_axis]\n",
    "\n",
    "# Set ticks\n",
    "ticks = 50, 250, 450, 650, 850, 1050, 1250, 1450, 1650, 1850 \n",
    "plt.yticks(ticks=ticks, labels=None)\n",
    "\n",
    "# Graph Format\n",
    "plt.bar(x_axis, property, color='green', alpha=0.5, align=\"center\")\n",
    "plt.xlabel('Age Groups')\n",
    "plt.ylabel('Number of Property Crimes')\n",
    "plt.title('Property Crimes Committed per Age Group')\n",
    "plt.xticks(rotation='vertical')"
   ]
  },
  {
   "cell_type": "code",
   "execution_count": null,
   "metadata": {},
   "outputs": [],
   "source": [
    "# Create bar graph for assault crime - age\n",
    "\n",
    "# Axes\n",
    "assault = [5, 189, 588, 358, 211, 154, 43, 9, 1, 0]\n",
    "x_axis = cle2017_crime_age_df['Age Groups']\n",
    "tick_locations = [value for value in x_axis]\n",
    "\n",
    "# Graph Format\n",
    "plt.bar(x_axis, assault, color='green', alpha=0.5, align=\"center\")\n",
    "plt.xlabel('Age Groups')\n",
    "plt.ylabel('Number of Aggravated Assaults')\n",
    "plt.title('Aggravated Assaults Committed per Age Group')\n",
    "plt.xticks(rotation='vertical')"
   ]
  },
  {
   "cell_type": "code",
   "execution_count": null,
   "metadata": {},
   "outputs": [],
   "source": [
    "# Create bar graph for burglary crime - age\n",
    "\n",
    "# Axes\n",
    "burglary_age = [14, 263, 529, 348, 171, 125, 23, 3, 0, 0]\n",
    "x_axis = cle2017_crime_age_df['Age Groups']\n",
    "tick_locations = [value for value in x_axis]\n",
    "\n",
    "# Graph Format\n",
    "plt.bar(x_axis, burglary_age, color='green', alpha=0.5, align=\"center\")\n",
    "plt.xlabel('Age Groups')\n",
    "plt.ylabel('Number of Burglaries')\n",
    "plt.title('Burglaries Committed per Age Group')\n",
    "plt.xticks(rotation='vertical')"
   ]
  },
  {
   "cell_type": "code",
   "execution_count": null,
   "metadata": {},
   "outputs": [],
   "source": [
    "# Create bar graph for larceny crime - age\n",
    "\n",
    "# Axes\n",
    "larceny_age = [39, 547, 1057, 797, 526, 381, 92, 8, 2, 3]\n",
    "x_axis = cle2017_crime_age_df['Age Groups']\n",
    "tick_locations = [value for value in x_axis]\n",
    "\n",
    "# Graph Format\n",
    "plt.bar(x_axis, burglary_age, color='green', alpha=0.5, align=\"center\")\n",
    "plt.xlabel('Age Groups')\n",
    "plt.ylabel('Number of Larcenies')\n",
    "plt.title('Larcenies Committed per Age Group')\n",
    "plt.xticks(rotation='vertical')"
   ]
  },
  {
   "cell_type": "code",
   "execution_count": null,
   "metadata": {},
   "outputs": [],
   "source": [
    "# Create bar graph for motor vehicle theft - age\n",
    "\n",
    "# Axes\n",
    "mvt_age = [1, 194, 220, 159, 49, 38, 3, 1, 1, 0]\n",
    "x_axis = cle2017_crime_age_df['Age Groups']\n",
    "tick_locations = [value for value in x_axis]\n",
    "\n",
    "# Graph Format\n",
    "plt.bar(x_axis, mvt_age, color='green', alpha=0.5, align=\"center\")\n",
    "plt.xlabel('Age Groups')\n",
    "plt.ylabel('Number of Motor Vehicle Thefts')\n",
    "plt.title('Motor Vehicle Thefts per Age Group')\n",
    "plt.xticks(rotation='vertical')"
   ]
  },
  {
   "cell_type": "code",
   "execution_count": null,
   "metadata": {},
   "outputs": [],
   "source": [
    "# Create bar graph for Homicide - age\n",
    "\n",
    "# Axes\n",
    "homicide_age = [0, 7, 21, 10, 7, 1, 2, 0, 0, 0]\n",
    "x_axis = cle2017_crime_age_df['Age Groups']\n",
    "tick_locations = [value for value in x_axis]\n",
    "\n",
    "# Graph Format\n",
    "plt.bar(x_axis, homicide_age, color='green', alpha=0.5, align=\"center\")\n",
    "plt.xlabel('Age Groups')\n",
    "plt.ylabel('Number of Homicides')\n",
    "plt.title('Homicides Committed per Age Group')\n",
    "plt.xticks(rotation='vertical')"
   ]
  },
  {
   "cell_type": "code",
   "execution_count": null,
   "metadata": {},
   "outputs": [],
   "source": [
    "# Create bar graph for Rape - age\n",
    "\n",
    "# Axes\n",
    "rape_age = [14, 80, 118, 81, 53, 44, 13, 1, 1, 0]\n",
    "x_axis = cle2017_crime_age_df['Age Groups']\n",
    "tick_locations = [value for value in x_axis]\n",
    "\n",
    "# Graph Format\n",
    "plt.bar(x_axis, rape_age, color='green', alpha=0.5, align=\"center\")\n",
    "plt.xlabel('Age Groups')\n",
    "plt.ylabel('Number of Rapes')\n",
    "plt.title('Rapes Committed per Age Group')\n",
    "plt.xticks(rotation='vertical')"
   ]
  },
  {
   "cell_type": "code",
   "execution_count": null,
   "metadata": {},
   "outputs": [],
   "source": [
    "# Create bar graph for Robbery - age\n",
    "\n",
    "# Axes\n",
    "robbery_age = [4, 500, 630, 231, 104, 79, 5, 3, 0, 2]\n",
    "x_axis = cle2017_crime_age_df['Age Groups']\n",
    "tick_locations = [value for value in x_axis]\n",
    "\n",
    "# Graph Format\n",
    "plt.bar(x_axis, robbery_age, color='green', alpha=0.5, align=\"center\")\n",
    "plt.xlabel('Age Groups')\n",
    "plt.ylabel('Number of Robberies')\n",
    "plt.title('Robberies Committed per Age Group')\n",
    "plt.xticks(rotation='vertical')"
   ]
  },
  {
   "cell_type": "code",
   "execution_count": null,
   "metadata": {},
   "outputs": [],
   "source": [
    "# Create bar graph for arson - age\n",
    "\n",
    "# Axes\n",
    "arson_age = [4, 21, 17, 11, 7, 9, 3, 1, 0, 0]\n",
    "x_axis = cle2017_crime_age_df['Age Groups']\n",
    "tick_locations = [value for value in x_axis]\n",
    "\n",
    "# Graph Format\n",
    "plt.bar(x_axis, arson_age, color='green', alpha=0.5, align=\"center\")\n",
    "plt.xlabel('Age Groups')\n",
    "plt.ylabel('Number of Arsons')\n",
    "plt.title('Arsons Committed per Age Group')\n",
    "plt.xticks(rotation='vertical')"
   ]
  },
  {
   "cell_type": "code",
   "execution_count": null,
   "metadata": {},
   "outputs": [],
   "source": [
    "# Enter Lat and Lng into list\n",
    "lat = [41.49932, 41.484766, 41.39311, 41.405772, 41.366161, 41.319776, 41.313943, 41.439774, 41.429852, 41.520052, 41.533107, 41.593105, 41.441437, 41.416997, 41.517552, 41.361721, 41.551995, 41.368665, 41.481993, 41.501344, 41.519219, 41.451142, 41.415603, 41.313664, 41.377325, 41.375049, 41.404774, 41.390052, 41.478387, 41.552829, 41.47305, 41.382078, 41.389776, 41.523108, 41.314497, 41.497831, 41.387831, 41.352225, 41.448387, 41.455323, 41.462276, 41.4451]\n",
    "lng = [-81.694361, -81.922084, -81.536509, -81.498117, -81.854303, -81.62679, -81.685127, -81.73541, -81.3911,  -81.556235, -81.579014, -81.526787, -81.864304, -81.605958, -81.403448, -81.46956, -81.478452, -81.637903, -81.798191,  -81.503097, -81.457896, -81.409714, -81.923473, -81.724574,  -81.944215, -81.908194, -81.722909, -81.759577, -81.46373, -81.510121, -81.854261,  -81.662834, -81.441226, -81.518455, -81.83569, -81.537346, -81.604569, -81.545527, -81.51901,  -81.917917, -81.480675, -81.766523]\n",
    "\n",
    "# Create Columns in cuy_data\n",
    "cuy_data['LAT'] = lat\n",
    "cuy_data['LNG'] = lng\n",
    "\n",
    "# Confirm columns are addeda and correct\n",
    "cuy_data.head()\n"
   ]
  },
  {
   "cell_type": "code",
   "execution_count": null,
   "metadata": {},
   "outputs": [],
   "source": [
    "# Heat map for crimes/population per city - weight for the map\n",
    "pop_crime_tot = cuy_data['TOTALS']\n",
    "\n",
    "# Configure gmaps\n",
    "gmaps.configure(api_key=g_key)\n",
    "\n",
    "# Store latitude and longitude in locations\n",
    "locations = cuy_data[[\"LAT\", \"LNG\"]]"
   ]
  },
  {
   "cell_type": "code",
   "execution_count": null,
   "metadata": {},
   "outputs": [],
   "source": [
    "# Plot Heatmap\n",
    "fig = gmaps.figure()\n",
    "\n",
    "# Create heat layer\n",
    "heat_layer = gmaps.heatmap_layer(locations, weights = pop_crime_tot, dissipating=True, max_intensity=300, point_radius=15)\n",
    "\n",
    "# Add layer\n",
    "fig.add_layer(heat_layer)\n",
    "\n",
    "# Display figure\n",
    "fig"
   ]
  },
  {
   "cell_type": "code",
   "execution_count": null,
   "metadata": {},
   "outputs": [],
   "source": [
    "# Heat map for crimes/population per city - weight for the map\n",
    "pop_crime = cuy_data['POPULATION']/cuy_data['TOTALS']\n",
    "\n",
    "# Configure gmaps\n",
    "gmaps.configure(api_key=g_key)\n",
    "\n",
    "# Store latitude and longitude in locations\n",
    "locations = cuy_data[[\"LAT\", \"LNG\"]]\n"
   ]
  },
  {
   "cell_type": "code",
   "execution_count": null,
   "metadata": {},
   "outputs": [],
   "source": [
    "# Plot Heatmap\n",
    "fig = gmaps.figure()\n",
    "\n",
    "# Create heat layer\n",
    "heat_layer = gmaps.heatmap_layer(locations, weights = pop_crime, dissipating=True, max_intensity=300, point_radius=32.75)\n",
    "\n",
    "# Add layer\n",
    "fig.add_layer(heat_layer)\n",
    "\n",
    "# Display figure\n",
    "fig"
   ]
  },
  {
   "cell_type": "code",
   "execution_count": null,
   "metadata": {},
   "outputs": [],
   "source": []
  }
 ],
 "metadata": {
  "kernelspec": {
   "display_name": "Python 3",
   "language": "python",
   "name": "python3"
  },
  "language_info": {
   "codemirror_mode": {
    "name": "ipython",
    "version": 3
   },
   "file_extension": ".py",
   "mimetype": "text/x-python",
   "name": "python",
   "nbconvert_exporter": "python",
   "pygments_lexer": "ipython3",
   "version": "3.7.6"
  }
 },
 "nbformat": 4,
 "nbformat_minor": 2
}
